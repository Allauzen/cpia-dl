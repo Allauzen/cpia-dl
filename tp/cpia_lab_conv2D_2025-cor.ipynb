{
  "cells": [
    {
      "cell_type": "markdown",
      "metadata": {
        "id": "xiXuapmFfQI5"
      },
      "source": [
        "This lab session in an introduction to feed-forward and convolutional neural network with pytorch. We use the dataset Fashion-MNIST (see for more details this website https://github.com/zalandoresearch/fashion-mnist). The dataset contains 60000 and 10000 images for respectively training and testing. Each image is 28x28 pixels, for a total of 784 per image.  An image is presented to the neural network as a flat vector of 784 component.\n",
        "\n",
        "First load and test python and pytorch. Your notebook is supposed to work with python 3 (see the top right corner of the notebook)."
      ]
    },
    {
      "cell_type": "code",
      "execution_count": 1,
      "metadata": {
        "scrolled": true,
        "id": "DnDpe5h9fQI_"
      },
      "outputs": [],
      "source": [
        "# math, numpy and plot\n",
        "import numpy as np\n",
        "import math\n",
        "import matplotlib\n",
        "import matplotlib.pyplot as plt\n",
        "# torch\n",
        "import torch as th\n",
        "import torch.autograd as autograd\n",
        "import torch.nn.functional as F\n",
        "import torch.nn as nn\n",
        "from torch.utils.data import TensorDataset, DataLoader\n",
        "from torchvision import datasets\n",
        "from torchvision.transforms import ToTensor\n",
        "\n",
        "# gzip\n",
        "import gzip\n",
        "import pickle\n"
      ]
    },
    {
      "cell_type": "code",
      "execution_count": 2,
      "metadata": {
        "id": "ch_S9_bXfQJC",
        "outputId": "7e3732a2-68f3-4c3a-b1dd-b637aad0ad6e",
        "colab": {
          "base_uri": "https://localhost:8080/"
        }
      },
      "outputs": [
        {
          "output_type": "stream",
          "name": "stdout",
          "text": [
            "Downloading http://fashion-mnist.s3-website.eu-central-1.amazonaws.com/train-images-idx3-ubyte.gz\n",
            "Downloading http://fashion-mnist.s3-website.eu-central-1.amazonaws.com/train-images-idx3-ubyte.gz to ./FashionMNIST/raw/train-images-idx3-ubyte.gz\n"
          ]
        },
        {
          "output_type": "stream",
          "name": "stderr",
          "text": [
            "100%|██████████| 26.4M/26.4M [00:02<00:00, 12.5MB/s]\n"
          ]
        },
        {
          "output_type": "stream",
          "name": "stdout",
          "text": [
            "Extracting ./FashionMNIST/raw/train-images-idx3-ubyte.gz to ./FashionMNIST/raw\n",
            "\n",
            "Downloading http://fashion-mnist.s3-website.eu-central-1.amazonaws.com/train-labels-idx1-ubyte.gz\n",
            "Downloading http://fashion-mnist.s3-website.eu-central-1.amazonaws.com/train-labels-idx1-ubyte.gz to ./FashionMNIST/raw/train-labels-idx1-ubyte.gz\n"
          ]
        },
        {
          "output_type": "stream",
          "name": "stderr",
          "text": [
            "100%|██████████| 29.5k/29.5k [00:00<00:00, 202kB/s]\n"
          ]
        },
        {
          "output_type": "stream",
          "name": "stdout",
          "text": [
            "Extracting ./FashionMNIST/raw/train-labels-idx1-ubyte.gz to ./FashionMNIST/raw\n",
            "\n",
            "Downloading http://fashion-mnist.s3-website.eu-central-1.amazonaws.com/t10k-images-idx3-ubyte.gz\n",
            "Downloading http://fashion-mnist.s3-website.eu-central-1.amazonaws.com/t10k-images-idx3-ubyte.gz to ./FashionMNIST/raw/t10k-images-idx3-ubyte.gz\n"
          ]
        },
        {
          "output_type": "stream",
          "name": "stderr",
          "text": [
            "100%|██████████| 4.42M/4.42M [00:01<00:00, 3.69MB/s]\n"
          ]
        },
        {
          "output_type": "stream",
          "name": "stdout",
          "text": [
            "Extracting ./FashionMNIST/raw/t10k-images-idx3-ubyte.gz to ./FashionMNIST/raw\n",
            "\n",
            "Downloading http://fashion-mnist.s3-website.eu-central-1.amazonaws.com/t10k-labels-idx1-ubyte.gz\n",
            "Downloading http://fashion-mnist.s3-website.eu-central-1.amazonaws.com/t10k-labels-idx1-ubyte.gz to ./FashionMNIST/raw/t10k-labels-idx1-ubyte.gz\n"
          ]
        },
        {
          "output_type": "stream",
          "name": "stderr",
          "text": [
            "100%|██████████| 5.15k/5.15k [00:00<00:00, 4.97MB/s]"
          ]
        },
        {
          "output_type": "stream",
          "name": "stdout",
          "text": [
            "Extracting ./FashionMNIST/raw/t10k-labels-idx1-ubyte.gz to ./FashionMNIST/raw\n",
            "\n"
          ]
        },
        {
          "output_type": "stream",
          "name": "stderr",
          "text": [
            "\n"
          ]
        }
      ],
      "source": [
        "\n",
        "# Load the dataset for the training/validation sets\n",
        "valid_ratio = 0.3\n",
        "dataset_dir = \"./\"\n",
        "train_valid_dataset = datasets.FashionMNIST(root=dataset_dir,\n",
        "                                           train=True,\n",
        "                                           transform= ToTensor(),\n",
        "                                           download=True)\n",
        "\n",
        "# Split it into training and validation sets\n",
        "nb_train = int((1.0 - valid_ratio) * len(train_valid_dataset))\n",
        "nb_valid =  int(valid_ratio * len(train_valid_dataset))\n",
        "train_dataset, valid_dataset = th.utils.data.dataset.random_split(train_valid_dataset, [nb_train, nb_valid])\n",
        "\n"
      ]
    },
    {
      "cell_type": "code",
      "execution_count": 4,
      "metadata": {
        "id": "YCueJdTOfQJF",
        "outputId": "3c3f3528-3e2d-47f8-9bce-912508cf43d8",
        "colab": {
          "base_uri": "https://localhost:8080/"
        }
      },
      "outputs": [
        {
          "output_type": "execute_result",
          "data": {
            "text/plain": [
              "42000"
            ]
          },
          "metadata": {},
          "execution_count": 4
        }
      ],
      "source": [
        "len(train_dataset)"
      ]
    },
    {
      "cell_type": "markdown",
      "metadata": {
        "id": "ENKJsHVufQJG"
      },
      "source": [
        "\n",
        "In pytorch data handling is done in 2 steps:\n",
        "- `DataSet`: a class to access the raw data, it can be tensors, files, distributed files, ...\n",
        "- `DataLoader` (the class to iterate through the dataset and to get access to well prepared batch of data)\n",
        "\n",
        "From the model viewpoint:\n",
        "- During training and testing the model interacts with the `DataLoader` to go through the `DataSet`\n",
        "- The Dataloader pick what is necessary in the `DataSet`  \n",
        "\n",
        "Here we already have dataset."
      ]
    },
    {
      "cell_type": "markdown",
      "metadata": {
        "id": "9ESC5LWFfQJH"
      },
      "source": [
        "To look at one batch :"
      ]
    },
    {
      "cell_type": "code",
      "execution_count": 47,
      "metadata": {
        "id": "UEVDwcNOfQJI"
      },
      "outputs": [],
      "source": [
        "batch_size =2000\n",
        "trainloader =  DataLoader(dataset=train_dataset,\n",
        "                                          batch_size=batch_size,\n",
        "                                          shuffle=True )\n",
        "batch_size =2000\n",
        "validloader =  DataLoader(dataset=valid_dataset,\n",
        "                                          batch_size=batch_size,\n",
        "                                          shuffle=False )\n"
      ]
    },
    {
      "cell_type": "code",
      "execution_count": 18,
      "metadata": {
        "id": "R0mpLaqofQJJ",
        "outputId": "2954820a-f98d-4985-ee13-4fdbb9b161f4",
        "colab": {
          "base_uri": "https://localhost:8080/"
        }
      },
      "outputs": [
        {
          "output_type": "stream",
          "name": "stdout",
          "text": [
            "<class 'list'> 2\n",
            "<class 'torch.Tensor'> <class 'torch.Tensor'>\n",
            "torch.Size([1000, 1, 28, 28]) torch.Size([1000])\n"
          ]
        }
      ],
      "source": [
        "batch = next(iter(trainloader))\n",
        "# Explore what you get as a batch\n",
        "print(type(batch),len(batch))\n",
        "print(type(batch[0]),type(batch[1]))\n",
        "print(batch[0].shape,batch[1].shape)"
      ]
    },
    {
      "cell_type": "code",
      "execution_count": 19,
      "metadata": {
        "id": "1T6x0zrjfQJL",
        "outputId": "de40c9b2-0335-4d24-e6f0-8d3bbfa12c4f",
        "colab": {
          "base_uri": "https://localhost:8080/",
          "height": 447
        }
      },
      "outputs": [
        {
          "output_type": "stream",
          "name": "stdout",
          "text": [
            "tensor(0)\n"
          ]
        },
        {
          "output_type": "display_data",
          "data": {
            "text/plain": [
              "<Figure size 640x480 with 1 Axes>"
            ],
            "image/png": "[encoded data removed]"
          },
          "metadata": {}
        }
      ],
      "source": [
        "i = 1\n",
        "image = batch[0][i]\n",
        "label = batch[1][i]\n",
        "plt.imshow(image.squeeze().numpy() , matplotlib.pyplot.cm.gray)\n",
        "print(label)"
      ]
    },
    {
      "cell_type": "code",
      "execution_count": 20,
      "metadata": {
        "id": "Z-1pgFaqfQJP"
      },
      "outputs": [],
      "source": [
        "labels_map={\n",
        "    0: 'T-shirt',\n",
        "    1: 'Trouser',\n",
        "    2: 'Pullover',\n",
        "    3: 'Dress',\n",
        "    4: 'Coat',\n",
        "    5: 'Sandal',\n",
        "    6: 'Shirt',\n",
        "    7: 'Sneaker',\n",
        "    8: 'Bag',\n",
        "    9: 'Ankle Boot',\n",
        "}\n",
        "\n"
      ]
    },
    {
      "cell_type": "code",
      "execution_count": 21,
      "metadata": {
        "id": "U3VbhRPBfQJQ",
        "outputId": "cf6c3dca-fc4f-494a-bc3e-c0ffb97b3753",
        "colab": {
          "base_uri": "https://localhost:8080/"
        }
      },
      "outputs": [
        {
          "output_type": "stream",
          "name": "stdout",
          "text": [
            "T-shirt\n"
          ]
        }
      ],
      "source": [
        "print(labels_map[label.item() ])"
      ]
    },
    {
      "cell_type": "markdown",
      "metadata": {
        "id": "8Qw7AeacfQJR"
      },
      "source": [
        "# Feed forward neural network\n",
        "\n",
        "\n",
        "\n",
        "A feedforward model can rely on the pytorch module *Sequential*.\n",
        "A *Sequential* module is a container of ordered modules: the first one takes input data and its output is given to feed the second module, and so on.\n",
        "\n",
        "**Note:** In pytorch, modules assumed Tensors as input. The input Tensor can contain just one input (online mode) or several inputs (mini-batch). The first dimension of the input Tensor corresponds to the mini-batch, and the second one to the dimension of the example to feed in. For example, with a mini-batch of size B and an image of D pixels, the input Tensor should be of shape (B,D), even if B=1 for one exemple.\n",
        "\n",
        "\n",
        "## Shallow network\n",
        "\n",
        "Let start with a simple model with one input layer and one output layer (without hidden layers). Please refer to the examples provided previously, and propose an implementation of this linear model using the *Sequential* module as container.  To write the model, we must consider the fact that the model is trained in order to maximize the Log-likelihood on the training data. If you look at  https://pytorch.org/docs/stable/nn.html, the documentation of the NNet package of pytorch, there is a section on the loss functions.\n",
        "\n",
        "Two of the proposed loss function can be used for our purpose. The choice of one of them implies the choice of the activation function at the output layer.\n",
        "\n",
        "- What are these two possible choices ?\n",
        "- Make a choice and replace the \"None\" in the following cell"
      ]
    },
    {
      "cell_type": "code",
      "execution_count": 22,
      "metadata": {
        "id": "PJciY04wfQJS",
        "outputId": "e70e8d71-65c8-4f6d-babf-fa3ce24c9be4",
        "colab": {
          "base_uri": "https://localhost:8080/"
        }
      },
      "outputs": [
        {
          "output_type": "stream",
          "name": "stdout",
          "text": [
            "torch.Size([1, 10])\n",
            "tensor([-2.2625, -1.7718, -2.5837, -1.8775, -2.6348, -2.4695, -2.8148, -2.5761,\n",
            "        -2.2312, -2.3261], grad_fn=<SelectBackward0>)\n",
            "prediction du modele : tensor(1)\n",
            "label  tensor(0)\n",
            "la loss tensor(2.2625, grad_fn=<NllLossBackward0>)\n"
          ]
        }
      ],
      "source": [
        "D_in = 784\n",
        "D_out= 10\n",
        "\n",
        "model =  nn.Sequential(\n",
        "    nn.Linear(D_in,D_out),\n",
        "    nn.LogSoftmax(dim=1)\n",
        ")\n",
        "loss_function = nn.NLLLoss()\n",
        "\n",
        "image = image.view(1,-1)\n",
        "\n",
        "preds = model(image)\n",
        "print(preds.shape)\n",
        "print(preds[0])\n",
        "loss = loss_function(preds.squeeze(), label)\n",
        "print(\"prediction du modele :\", th.argmax(preds))\n",
        "print(\"label \",label)\n",
        "print(\"la loss\", loss)\n",
        "\n"
      ]
    },
    {
      "cell_type": "markdown",
      "metadata": {
        "id": "da0oObVdfQJU"
      },
      "source": [
        "- Can you explain what we observe ?\n",
        "- Do it the same for one batch and explain what you observe.\n"
      ]
    },
    {
      "cell_type": "code",
      "execution_count": 52,
      "metadata": {
        "id": "EU3FE6ytfQJU"
      },
      "outputs": [],
      "source": [
        "def train(model, maxepoch=10,lr=1e-3):\n",
        "    device=\"cpu\"\n",
        "    if th.cuda.is_available():\n",
        "      device=\"cuda\"\n",
        "    print(\"on est sur \",device)\n",
        "    model=model.to(device)\n",
        "    opt = th.optim.Adam(model.parameters(), lr=lr)\n",
        "    trainloss = np.zeros(maxepoch)\n",
        "    validloss = np.zeros(maxepoch)\n",
        "    accuracy = np.zeros(maxepoch)\n",
        "    validaccuracy = np.zeros(maxepoch)\n",
        "    lossf = nn.NLLLoss()\n",
        "    for i in range(maxepoch):\n",
        "        for batch in trainloader:\n",
        "            # 1/ inference\n",
        "            X,Y = batch\n",
        "            X , Y = X.to(device), Y.to(device)\n",
        "            B,C,H,W = X.shape\n",
        "            ypred = model.forward(X.view(B,H*W))\n",
        "            # 2/ calculer le cout\n",
        "            # Attention, ypred et Y doivent avoir la même taille !\n",
        "            l = lossf(ypred.squeeze(), Y) #####################\n",
        "            trainloss[i] += l.item()\n",
        "            accuracy[i]+=(ypred.argmax(dim=-1) == Y).sum()\n",
        "            # 3/ backprop\n",
        "            l.backward()\n",
        "            # 4/ Update\n",
        "            opt.step()\n",
        "            # maintenance\n",
        "            opt.zero_grad()\n",
        "        for batch in validloader:\n",
        "            X,Y = batch\n",
        "            X , Y = X.to(device), Y.to(device)\n",
        "            B,C,H,W = X.shape\n",
        "            ypred = model.forward(X.view(B,H*W))\n",
        "            # 2/ calculer le cout\n",
        "            # Attention, ypred et Y doivent avoir la même taille !\n",
        "            l = lossf(ypred.squeeze(), Y) #####################\n",
        "            validloss[i] += l.item()\n",
        "            validaccuracy[i]+=(ypred.argmax(dim=-1) == Y).sum()\n",
        "        print(i, trainloss[i], accuracy[i]*100/nb_train, \"||\" ,\n",
        "              validloss[i], validaccuracy[i]*100/nb_valid)\n",
        "    plt.plot(trainloss)\n",
        "    plt.plot(validloss)\n",
        ""
      ]
    },
    {
      "cell_type": "code",
      "execution_count": 53,
      "metadata": {
        "id": "siINPrQDfQJV",
        "outputId": "ab4bb12f-880b-45d3-b79b-0c86dde48485",
        "colab": {
          "base_uri": "https://localhost:8080/",
          "height": 621
        }
      },
      "outputs": [
        {
          "output_type": "stream",
          "name": "stdout",
          "text": [
            "on est sur  cuda\n",
            "0 35.08657145500183 53.00238095238095 || 10.917291402816772 65.47222222222223\n",
            "1 21.851677775382996 68.04047619047618 || 8.359056830406189 69.56666666666666\n",
            "2 18.075677573680878 72.1547619047619 || 7.371898531913757 73.14444444444445\n",
            "3 16.291456878185272 75.08095238095238 || 6.810812294483185 75.57222222222222\n",
            "4 15.165548145771027 77.07619047619048 || 6.398706674575806 77.16111111111111\n",
            "5 14.3224555850029 78.5547619047619 || 6.0952383279800415 78.14444444444445\n",
            "6 13.677230834960938 79.41666666666667 || 5.85862523317337 78.96666666666667\n",
            "7 13.177192032337189 80.12380952380953 || 5.659717381000519 79.59444444444445\n",
            "8 12.759160578250885 80.61904761904762 || 5.501338958740234 80.16111111111111\n",
            "9 12.388758838176727 81.23095238095237 || 5.369839012622833 80.72222222222223\n"
          ]
        },
        {
          "output_type": "display_data",
          "data": {
            "text/plain": [
              "<Figure size 640x480 with 1 Axes>"
            ],
            "image/png": "[encoded data removed]"
          },
          "metadata": {}
        }
      ],
      "source": [
        "model =  nn.Sequential(\n",
        "    nn.Linear(D_in,D_out),\n",
        "    nn.LogSoftmax(dim=1)\n",
        ")\n",
        "\n",
        "train(model)"
      ]
    },
    {
      "cell_type": "code",
      "source": [
        "H = 200\n",
        "model =  nn.Sequential(\n",
        "    nn.Linear(D_in,H),\n",
        "    nn.Sigmoid(),\n",
        "    nn.Linear(H,D_out),\n",
        "    nn.LogSoftmax(dim=1)\n",
        ")\n",
        "\n",
        "train(model,maxepoch=40,lr=5e-3)"
      ],
      "metadata": {
        "id": "8PXGkv6AoxbL",
        "outputId": "05c1b93b-24af-46ce-f47d-15700cab874e",
        "colab": {
          "base_uri": "https://localhost:8080/",
          "height": 1000
        }
      },
      "execution_count": 56,
      "outputs": [
        {
          "output_type": "stream",
          "name": "stdout",
          "text": [
            "on est sur  cuda\n",
            "0 26.088844776153564 61.03809523809524 || 6.589571118354797 73.31111111111112\n",
            "1 13.013832211494446 78.16428571428571 || 5.014894902706146 79.39444444444445\n",
            "2 10.510731518268585 82.1047619047619 || 4.3436020612716675 82.89444444444445\n",
            "3 9.406297832727432 83.93333333333334 || 4.017525553703308 84.17777777777778\n",
            "4 8.717362523078918 85.1547619047619 || 3.791236847639084 85.31111111111112\n",
            "5 8.34094163775444 85.69285714285714 || 3.683750957250595 85.74444444444444\n",
            "6 8.008756577968597 86.43333333333334 || 3.7373175621032715 85.33888888888889\n",
            "7 7.778009444475174 86.68095238095238 || 3.486891657114029 86.23333333333333\n",
            "8 7.43929922580719 87.32142857142857 || 3.4427847266197205 86.50555555555556\n",
            "9 7.240093290805817 87.69285714285714 || 3.3537587225437164 86.9\n",
            "10 7.0639245212078094 87.9095238095238 || 3.4058805406093597 86.64444444444445\n",
            "11 6.907651752233505 88.25714285714285 || 3.2587776482105255 87.03888888888889\n",
            "12 6.662068843841553 88.62857142857143 || 3.1958836019039154 87.38888888888889\n",
            "13 6.601995766162872 88.66666666666667 || 3.198650300502777 87.21111111111111\n",
            "14 6.452987313270569 88.93333333333334 || 3.193267375230789 87.31666666666666\n",
            "15 6.366311281919479 89.14285714285714 || 3.1714797914028168 87.3\n",
            "16 6.203405141830444 89.39761904761905 || 3.0892511904239655 87.68333333333334\n",
            "17 6.021831884980202 89.72619047619048 || 3.0524495244026184 87.82222222222222\n",
            "18 5.934092581272125 89.81428571428572 || 3.079082578420639 87.86111111111111\n",
            "19 5.82891047000885 89.98333333333333 || 3.016288697719574 88.03333333333333\n",
            "20 5.658719122409821 90.31904761904762 || 2.998626172542572 88.07777777777778\n",
            "21 5.572994276881218 90.48095238095237 || 3.001634120941162 87.97777777777777\n",
            "22 5.597358971834183 90.43571428571428 || 2.95099800825119 88.25\n",
            "23 5.402750909328461 90.80238095238096 || 2.9987678825855255 87.8\n",
            "24 5.373068958520889 90.8047619047619 || 2.9396480321884155 88.37222222222222\n",
            "25 5.171149969100952 91.11428571428571 || 2.9684680104255676 87.97777777777777\n",
            "26 5.201460644602776 91.10238095238095 || 2.9092021882534027 88.42222222222222\n",
            "27 5.080948606133461 91.22857142857143 || 2.8883288204669952 88.49444444444444\n",
            "28 4.968686074018478 91.62380952380953 || 2.8824779987335205 88.22222222222223\n",
            "29 4.866363495588303 91.71190476190476 || 2.8862601220607758 88.46666666666667\n",
            "30 4.834201902151108 91.74285714285715 || 2.890008866786957 88.28333333333333\n",
            "31 4.6869983822107315 91.98571428571428 || 2.8897459506988525 88.47222222222223\n",
            "32 4.602790549397469 92.14285714285714 || 2.8558346033096313 88.56666666666666\n",
            "33 4.520670309662819 92.45238095238095 || 2.885027229785919 88.4\n",
            "34 4.505449891090393 92.51190476190476 || 2.859120696783066 88.75\n",
            "35 4.4316108375787735 92.52142857142857 || 2.8894353806972504 88.56666666666666\n",
            "36 4.398576781153679 92.53333333333333 || 2.947963535785675 88.41111111111111\n",
            "37 4.32347759604454 92.5952380952381 || 2.954946130514145 88.33888888888889\n",
            "38 4.16679684817791 92.95952380952382 || 2.8233943581581116 88.77777777777777\n",
            "39 4.131776988506317 93.06428571428572 || 2.822515845298767 88.8\n"
          ]
        },
        {
          "output_type": "display_data",
          "data": {
            "text/plain": [
              "<Figure size 640x480 with 1 Axes>"
            ],
            "image/png": "[encoded data removed]"
          },
          "metadata": {}
        }
      ]
    },
    {
      "cell_type": "code",
      "source": [
        "H1, H2 = 200, 100\n",
        "model =  nn.Sequential(\n",
        "    nn.Linear(D_in,H1),\n",
        "    nn.Sigmoid(),\n",
        "    nn.Linear(H1,H2),\n",
        "    nn.Sigmoid(),\n",
        "    nn.Linear(H2,D_out),\n",
        "    nn.LogSoftmax(dim=1)\n",
        ")\n",
        "\n",
        "train(model,maxepoch=40,lr=5e-3)"
      ],
      "metadata": {
        "id": "TJAlErpUr6FQ",
        "outputId": "5e127d74-6f9e-4c8c-a211-1c012ff538b0",
        "colab": {
          "base_uri": "https://localhost:8080/",
          "height": 1000
        }
      },
      "execution_count": 57,
      "outputs": [
        {
          "output_type": "stream",
          "name": "stdout",
          "text": [
            "on est sur  cuda\n",
            "0 34.8654043674469 48.92619047619048 || 9.273454189300537 61.28333333333333\n",
            "1 17.346456050872803 69.13809523809523 || 6.032127797603607 74.77777777777777\n",
            "2 12.19349604845047 78.53333333333333 || 4.745858252048492 80.77222222222223\n",
            "3 10.05339139699936 82.86428571428571 || 4.199461877346039 83.77777777777777\n",
            "4 8.857008695602417 84.98571428571428 || 3.850174218416214 84.95\n",
            "5 8.15365731716156 86.10952380952381 || 3.702620804309845 85.33333333333333\n",
            "6 7.781703740358353 86.70476190476191 || 3.5552192330360413 85.81666666666666\n",
            "7 7.363800019025803 87.42142857142858 || 3.3816190361976624 86.58888888888889\n",
            "8 7.090681493282318 87.86190476190477 || 3.2920792400836945 86.80555555555556\n",
            "9 6.774532645940781 88.45238095238095 || 3.230650246143341 87.11111111111111\n",
            "10 6.574144333600998 88.81904761904762 || 3.2344416975975037 86.94444444444444\n",
            "11 6.450245141983032 88.93571428571428 || 3.1424858570098877 87.3\n",
            "12 6.227249920368195 89.21904761904761 || 3.082872688770294 87.60555555555555\n",
            "13 5.989614933729172 89.73333333333333 || 3.04242342710495 87.83333333333333\n",
            "14 5.847594976425171 89.99047619047619 || 3.0647920072078705 87.70555555555555\n",
            "15 5.74089577794075 90.15714285714286 || 3.0397435128688812 87.71666666666667\n",
            "16 5.634271904826164 90.39047619047619 || 3.124171495437622 87.45555555555555\n",
            "17 5.540614202618599 90.43095238095238 || 3.0503524243831635 87.85\n",
            "18 5.4793389439582825 90.4047619047619 || 2.94154754281044 88.39444444444445\n",
            "19 5.141233250498772 91.17619047619047 || 2.931676745414734 88.24444444444444\n",
            "20 5.140763968229294 91.06904761904762 || 2.951775223016739 88.35\n",
            "21 4.967179104685783 91.41904761904762 || 2.8684498369693756 88.49444444444444\n",
            "22 4.832367077469826 91.7 || 2.951388329267502 88.30555555555556\n",
            "23 4.840365394949913 91.58571428571429 || 2.919577866792679 88.34444444444445\n",
            "24 4.6646542102098465 91.98333333333333 || 2.8371535539627075 88.6\n",
            "25 4.498991936445236 92.29047619047618 || 2.8775738179683685 88.59444444444445\n",
            "26 4.4801487028598785 92.32619047619048 || 2.9706017673015594 88.28333333333333\n",
            "27 4.514229714870453 92.13809523809523 || 2.9976595044136047 88.05555555555556\n",
            "28 4.406120926141739 92.36190476190477 || 2.87889763712883 88.85555555555555\n",
            "29 4.1895552277565 92.71428571428571 || 2.8519816398620605 88.75555555555556\n",
            "30 4.031977817416191 93.1547619047619 || 2.8575279712677 88.80555555555556\n",
            "31 3.9198963344097137 93.34761904761905 || 2.8550444841384888 88.97777777777777\n",
            "32 3.830129995942116 93.45238095238095 || 2.8476260602474213 88.8\n",
            "33 3.9494554698467255 93.16428571428571 || 3.0487081110477448 88.35555555555555\n",
            "34 3.8238388001918793 93.47142857142858 || 2.8335077464580536 89.11111111111111\n",
            "35 3.591392368078232 93.96428571428571 || 2.883170872926712 88.85555555555555\n",
            "36 3.4102622270584106 94.37142857142857 || 2.9064318537712097 88.96111111111111\n",
            "37 3.331590250134468 94.51190476190476 || 2.896668255329132 89.10555555555555\n",
            "38 3.396748721599579 94.25714285714285 || 2.9181502163410187 89.0\n",
            "39 3.245861053466797 94.6 || 2.901605635881424 88.92222222222222\n"
          ]
        },
        {
          "output_type": "display_data",
          "data": {
            "text/plain": [
              "<Figure size 640x480 with 1 Axes>"
            ],
            "image/png": "[encoded data removed]"
          },
          "metadata": {}
        }
      ]
    },
    {
      "cell_type": "code",
      "source": [
        "H1, H2 = 200, 100\n",
        "model =  nn.Sequential(\n",
        "    nn.Linear(D_in,H1),\n",
        "    nn.ReLU(),\n",
        "    nn.Linear(H1,H2),\n",
        "    nn.ReLU(),\n",
        "    nn.Linear(H2,D_out),\n",
        "    nn.LogSoftmax(dim=1)\n",
        ")\n",
        "\n",
        "train(model,maxepoch=40,lr=1e-3)"
      ],
      "metadata": {
        "id": "xLI5e2w6u8wW",
        "outputId": "d396f272-d382-4db9-bb7b-8d47860a198f",
        "colab": {
          "base_uri": "https://localhost:8080/",
          "height": 1000
        }
      },
      "execution_count": 59,
      "outputs": [
        {
          "output_type": "stream",
          "name": "stdout",
          "text": [
            "on est sur  cuda\n",
            "0 32.59029895067215 54.15952380952381 || 8.08201938867569 67.58333333333333\n",
            "1 15.627286732196808 72.06190476190476 || 5.910137116909027 75.90555555555555\n",
            "2 12.560177266597748 79.12619047619047 || 5.107978105545044 80.35\n",
            "3 11.1189284324646 81.52142857142857 || 4.649281620979309 82.38333333333334\n",
            "4 10.250281989574432 83.02380952380952 || 4.376818060874939 83.05\n",
            "5 9.710016429424286 83.75 || 4.1663190722465515 83.93888888888888\n",
            "6 9.22638601064682 84.6547619047619 || 4.026349186897278 84.39444444444445\n",
            "7 8.918455839157104 85.1547619047619 || 3.92150741815567 84.91666666666667\n",
            "8 8.655395865440369 85.56666666666666 || 3.8722373843193054 84.7388888888889\n",
            "9 8.516325980424881 85.59761904761905 || 3.7605093717575073 85.40555555555555\n",
            "10 8.182909190654755 86.19761904761904 || 3.6875616908073425 85.63888888888889\n",
            "11 8.056216895580292 86.39047619047619 || 3.6671020090579987 85.60555555555555\n",
            "12 7.916212499141693 86.61428571428571 || 3.59193554520607 85.90555555555555\n",
            "13 7.70679897069931 87.08809523809524 || 3.5467914938926697 85.92777777777778\n",
            "14 7.569336801767349 87.13809523809523 || 3.5749861299991608 85.97777777777777\n",
            "15 7.443517029285431 87.36190476190477 || 3.5125831067562103 86.29444444444445\n",
            "16 7.349196255207062 87.49761904761905 || 3.4692812860012054 86.35555555555555\n",
            "17 7.130624294281006 87.98333333333333 || 3.4035078585147858 86.58888888888889\n",
            "18 7.072374105453491 88.10714285714286 || 3.4558392763137817 86.37222222222222\n",
            "19 7.143700212240219 88.02857142857142 || 3.4908604621887207 86.26666666666667\n",
            "20 6.923483282327652 88.31666666666666 || 3.3781932294368744 86.83333333333333\n",
            "21 6.821522116661072 88.49047619047619 || 3.3177998661994934 86.95555555555555\n",
            "22 6.694628596305847 88.73571428571428 || 3.3161321878433228 87.01666666666667\n",
            "23 6.584232151508331 88.97857142857143 || 3.294722855091095 86.92222222222222\n",
            "24 6.516538590192795 89.07380952380953 || 3.3139750957489014 87.13888888888889\n",
            "25 6.412028104066849 89.10952380952381 || 3.2260939180850983 87.32222222222222\n",
            "26 6.336982071399689 89.3452380952381 || 3.3402465879917145 86.86111111111111\n",
            "27 6.402381360530853 89.20952380952382 || 3.212759703397751 87.29444444444445\n",
            "28 6.183835059404373 89.60238095238095 || 3.2101340293884277 87.38333333333334\n",
            "29 6.093131840229034 89.84285714285714 || 3.211416929960251 87.58333333333333\n",
            "30 6.09809285402298 89.69047619047619 || 3.231846034526825 87.36111111111111\n",
            "31 6.023436337709427 89.74285714285715 || 3.218700021505356 87.27777777777777\n",
            "32 6.064060062170029 89.63809523809523 || 3.204576760530472 87.45\n",
            "33 5.961275815963745 89.88809523809523 || 3.271832138299942 87.27222222222223\n",
            "34 5.822747856378555 90.17619047619047 || 3.126676857471466 87.71666666666667\n",
            "35 5.776051089167595 90.3452380952381 || 3.1248352229595184 87.85555555555555\n",
            "36 5.66876120865345 90.46190476190476 || 3.1552882194519043 87.77222222222223\n",
            "37 5.6802486181259155 90.41666666666667 || 3.1658886075019836 87.63888888888889\n",
            "38 5.617793843150139 90.56666666666666 || 3.1353197395801544 87.71666666666667\n",
            "39 5.565341368317604 90.55952380952381 || 3.0949820578098297 87.83333333333333\n"
          ]
        },
        {
          "output_type": "display_data",
          "data": {
            "text/plain": [
              "<Figure size 640x480 with 1 Axes>"
            ],
            "image/png": "[encoded data removed]"
          },
          "metadata": {}
        }
      ]
    },
    {
      "cell_type": "code",
      "source": [
        "X, Y = next(iter(trainloader))\n",
        "B,C,H,W = X.shape\n",
        "X , Y = X.to(\"cuda\"), Y.to(\"cuda\")\n",
        "\n",
        "ypred= model.forward(X.view(B,H*W))\n",
        ""
      ],
      "metadata": {
        "id": "gFjQImzxkrzo"
      },
      "execution_count": 31,
      "outputs": []
    },
    {
      "cell_type": "code",
      "execution_count": 34,
      "metadata": {
        "id": "SEA9Ex53fQJW",
        "outputId": "18dee4c9-3825-4f57-f434-3e14a0299bc5",
        "colab": {
          "base_uri": "https://localhost:8080/"
        }
      },
      "outputs": [
        {
          "output_type": "execute_result",
          "data": {
            "text/plain": [
              "tensor([0, 2, 9, 8, 0, 4, 6, 8, 0, 4, 5, 2, 5, 6, 8, 4, 4, 7, 9, 9, 3, 1, 6, 3,\n",
              "        2, 3, 5, 2, 0, 4, 1, 0, 3, 0, 9, 8, 5, 7, 8, 7, 8, 3, 3, 6, 3, 4, 2, 8,\n",
              "        3, 8, 2, 7, 9, 8, 1, 5, 7, 8, 5, 0, 3, 3, 6, 2, 7, 0, 4, 0, 9, 2, 5, 0,\n",
              "        2, 2, 8, 4, 9, 2, 5, 2, 9, 5, 4, 3, 4, 1, 5, 6, 7, 1, 9, 7, 4, 3, 7, 9,\n",
              "        9, 2, 4, 5, 7, 9, 7, 9, 0, 5, 4, 9, 3, 1, 6, 4, 0, 9, 2, 3, 9, 2, 1, 4,\n",
              "        8, 7, 7, 5, 5, 5, 4, 8, 9, 0, 8, 7, 4, 0, 0, 2, 5, 9, 5, 3, 9, 5, 8, 7,\n",
              "        6, 7, 4, 0, 2, 4, 4, 0, 8, 8, 1, 6, 0, 0, 9, 8, 8, 5, 0, 9, 7, 9, 5, 0,\n",
              "        0, 3, 0, 4, 2, 1, 6, 2, 5, 7, 4, 1, 5, 6, 9, 5, 8, 1, 7, 2, 0, 3, 1, 5,\n",
              "        1, 1, 8, 2, 2, 7, 3, 4, 1, 2, 7, 6, 0, 9, 1, 0, 2, 5, 1, 9, 6, 9, 4, 1,\n",
              "        8, 5, 0, 3, 3, 0, 4, 7, 0, 6, 4, 6, 9, 1, 3, 9, 6, 4, 3, 8, 5, 8, 7, 4,\n",
              "        8, 0, 7, 4, 5, 4, 3, 7, 5, 5, 1, 7, 7, 4, 6, 6, 1, 4, 4, 6, 4, 7, 2, 6,\n",
              "        1, 1, 1, 4, 1, 6, 7, 1, 1, 7, 7, 4, 6, 0, 6, 2, 6, 9, 0, 9, 7, 2, 9, 0,\n",
              "        4, 8, 2, 1, 2, 8, 4, 3, 8, 5, 0, 4, 8, 1, 5, 2, 0, 4, 3, 0, 8, 7, 1, 9,\n",
              "        1, 7, 4, 6, 7, 9, 2, 2, 8, 1, 0, 1, 8, 3, 4, 7, 0, 9, 4, 2, 8, 4, 3, 1,\n",
              "        3, 6, 0, 7, 1, 7, 7, 1, 8, 9, 1, 2, 9, 9, 3, 2, 7, 4, 2, 5, 1, 8, 8, 3,\n",
              "        6, 2, 5, 2, 4, 9, 9, 4, 1, 4, 7, 9, 2, 0, 6, 8, 3, 0, 7, 0, 7, 4, 8, 6,\n",
              "        5, 5, 3, 5, 2, 6, 3, 9, 8, 4, 3, 5, 9, 8, 8, 2, 7, 8, 6, 2, 7, 3, 9, 8,\n",
              "        2, 8, 6, 8, 0, 6, 5, 5, 0, 0, 6, 9, 0, 0, 0, 0, 5, 4, 6, 0, 6, 1, 1, 1,\n",
              "        0, 9, 9, 9, 7, 1, 9, 6, 3, 4, 7, 4, 4, 9, 3, 4, 9, 4, 3, 1, 7, 0, 7, 2,\n",
              "        9, 9, 4, 2, 4, 0, 1, 3, 7, 1, 1, 4, 5, 7, 4, 8, 6, 3, 3, 1, 6, 0, 4, 2,\n",
              "        2, 5, 6, 8, 6, 1, 8, 0, 3, 2, 2, 5, 9, 0, 0, 4, 5, 4, 7, 4, 3, 9, 2, 3,\n",
              "        0, 1, 4, 3, 7, 4, 6, 7, 5, 7, 1, 2, 1, 6, 1, 9, 9, 1, 1, 0, 5, 3, 4, 9,\n",
              "        6, 6, 1, 3, 3, 4, 3, 3, 8, 1, 8, 5, 5, 9, 4, 7, 9, 1, 7, 5, 7, 9, 1, 5,\n",
              "        8, 7, 5, 0, 5, 2, 7, 1, 1, 9, 7, 3, 6, 3, 3, 3, 6, 0, 2, 1, 2, 7, 4, 5,\n",
              "        0, 5, 4, 2, 1, 4, 7, 3, 5, 9, 5, 1, 8, 4, 5, 5, 6, 8, 6, 4, 9, 7, 1, 5,\n",
              "        4, 2, 4, 4, 3, 7, 7, 0, 0, 5, 3, 5, 9, 2, 3, 5, 8, 9, 4, 3, 4, 4, 5, 2,\n",
              "        9, 2, 5, 5, 5, 9, 4, 1, 9, 9, 3, 8, 2, 3, 8, 8, 0, 1, 9, 9, 7, 2, 9, 7,\n",
              "        3, 1, 0, 4, 6, 4, 1, 2, 8, 4, 4, 5, 7, 8, 8, 1, 5, 8, 9, 6, 8, 9, 9, 8,\n",
              "        7, 3, 0, 9, 1, 8, 9, 2, 8, 9, 5, 8, 6, 5, 5, 8, 1, 5, 5, 1, 3, 0, 3, 4,\n",
              "        8, 5, 0, 8, 6, 1, 6, 9, 3, 5, 7, 4, 1, 7, 8, 2, 0, 0, 5, 9, 1, 9, 9, 9,\n",
              "        5, 1, 3, 5, 0, 5, 6, 6, 8, 5, 4, 5, 3, 5, 0, 5, 5, 0, 7, 7, 7, 4, 1, 8,\n",
              "        0, 3, 9, 8, 6, 4, 7, 9, 0, 3, 4, 2, 6, 6, 8, 8, 0, 1, 1, 4, 3, 1, 9, 4,\n",
              "        0, 3, 4, 3, 3, 7, 5, 1, 8, 3, 5, 4, 2, 7, 7, 6, 8, 4, 9, 0, 8, 6, 0, 7,\n",
              "        1, 6, 3, 4, 0, 2, 0, 2, 4, 2, 3, 3, 1, 1, 6, 8, 0, 3, 1, 1, 6, 9, 2, 5,\n",
              "        6, 7, 6, 0, 1, 3, 1, 9, 3, 5, 0, 8, 5, 2, 3, 7, 6, 1, 8, 7, 1, 1, 9, 7,\n",
              "        4, 3, 3, 8, 4, 7, 6, 3, 5, 1, 2, 3, 2, 9, 8, 5, 3, 2, 4, 8, 3, 5, 1, 4,\n",
              "        8, 1, 8, 9, 1, 8, 1, 3, 0, 1, 9, 3, 5, 7, 4, 4, 4, 0, 7, 5, 1, 8, 4, 3,\n",
              "        5, 8, 7, 3, 0, 1, 9, 4, 0, 0, 1, 1, 5, 0, 4, 2, 4, 4, 7, 6, 8, 8, 8, 6,\n",
              "        2, 4, 4, 0, 6, 0, 7, 2, 6, 2, 9, 1, 0, 9, 1, 4, 6, 5, 2, 3, 5, 8, 2, 3,\n",
              "        3, 0, 3, 3, 8, 4, 3, 8, 8, 7, 7, 0, 1, 7, 2, 3, 7, 0, 9, 8, 3, 8, 3, 6,\n",
              "        1, 4, 8, 1, 4, 5, 9, 4, 9, 3, 9, 0, 2, 4, 3, 6, 0, 3, 3, 4, 2, 1, 4, 6,\n",
              "        4, 1, 2, 9, 9, 2, 7, 3, 6, 1, 2, 9, 1, 9, 1, 1], device='cuda:0')"
            ]
          },
          "metadata": {},
          "execution_count": 34
        }
      ],
      "source": [
        "ypred.argmax(dim=-1)"
      ]
    },
    {
      "cell_type": "markdown",
      "metadata": {
        "id": "ZOhUVAshfQJW"
      },
      "source": [
        "- Train the network on the training data and evaluate what happens on developpment data.\n",
        "- Play with the learning rate."
      ]
    },
    {
      "cell_type": "markdown",
      "metadata": {
        "id": "IlQZfYMsfQJW"
      },
      "source": [
        "## MLP training\n",
        "\n",
        "- Build and train a MLP with one hidden layer. Look at the performance.\n",
        "- Play with the learning rate.\n",
        "- Can you estimate the number of parameter and how does it scale with dimensions (image, number of classes, ...)\n",
        "- Then try to add one more hidden layer.\n",
        "- And one more ...\n"
      ]
    },
    {
      "cell_type": "code",
      "execution_count": null,
      "metadata": {
        "id": "bwp6Zy6RfQJX"
      },
      "outputs": [],
      "source": []
    },
    {
      "cell_type": "markdown",
      "metadata": {
        "id": "CWlpgdYRfQJY"
      },
      "source": [
        "# Convolution\n",
        "\n",
        "The goal is to incrementally build an image classifier based on convolutional layers. Since we consider images and convolution we will use Tensors with peculiar shapes in input. Moreover, this session is also the occasion to introduce \"Max-pooling\" and \"Batch-normalization\".\n",
        "\n",
        "\n",
        "\n",
        "\n",
        "## Dataset\n",
        "\n",
        "First the dataset !  The provided version is unfortunately not adapted to our purpose in terms of dimensions.\n",
        "*Convolution2D* expects as input a Tensor with 4 dimensions $(N,C,H,W)$ with :\n",
        "\n",
        "- N the batch dimension, *i.e* the number of images\n",
        "- C the number of input channels, here it is 1\n",
        "- H the height or number of rows of each image\n",
        "- W the width  or number of columns of each image"
      ]
    },
    {
      "cell_type": "markdown",
      "metadata": {
        "id": "nk6gAoB2fQJY"
      },
      "source": [
        "## Playing with convolution in 2D\n",
        "\n",
        "Let start the exploration of convolution.The class we will use is called Conv2d. Read carefully the documentation of this module. Maybe you cannot understand everything. That's why it is useful to first play with the convolution with one image."
      ]
    },
    {
      "cell_type": "code",
      "execution_count": null,
      "metadata": {
        "id": "vNZdysFJfQJZ"
      },
      "outputs": [],
      "source": [
        "# Extract one image to start and be sure you have the right dimensions.\n"
      ]
    },
    {
      "cell_type": "markdown",
      "metadata": {
        "id": "7UalTAR0fQJZ"
      },
      "source": [
        "Now create one convolution layer with 1 input channels, a kernel size of 3, and a stride of 1.\n",
        "Try it and look at the output dimension.\n"
      ]
    },
    {
      "cell_type": "code",
      "execution_count": null,
      "metadata": {
        "id": "tIWdYm7XfQJZ"
      },
      "outputs": [],
      "source": [
        "# TODO:\n"
      ]
    },
    {
      "cell_type": "markdown",
      "metadata": {
        "id": "NgCndDEQfQJa"
      },
      "source": [
        "The resulting \"image\" is not of the same dimension, how to obtain an output with the same dimension (same question with a kernel size of 5) ?"
      ]
    },
    {
      "cell_type": "code",
      "execution_count": null,
      "metadata": {
        "id": "MOylB7_HfQJa"
      },
      "outputs": [],
      "source": [
        "# TODO\n",
        "\n"
      ]
    },
    {
      "cell_type": "markdown",
      "metadata": {
        "id": "jJKcmCErfQJb"
      },
      "source": [
        "## Examples of \"handmaid\" filters\n",
        "\n",
        "We can define the parameters of the convolutional filter with our own hands. For that purpose we just have to create the Tensor we want and cast it in a *Parameter* object (usefull for autograd) and then assign it.\n",
        "This is an example:"
      ]
    },
    {
      "cell_type": "code",
      "execution_count": null,
      "metadata": {
        "scrolled": true,
        "id": "5L7eCKSrfQJb"
      },
      "outputs": [],
      "source": [
        "# Create a convolutional filter\n",
        "convFilter = nn.Conv2d(in_channels=1,out_channels=1,\n",
        "                       kernel_size = 3, padding=1,\n",
        "                       stride=1)\n",
        "# build the weight matrix you want\n",
        "W=th.ones(convFilter.weight.shape)\n",
        "# Makes it a Parameter and assign\n",
        "convFilter.weight = nn.Parameter(W)\n",
        "\n",
        "res = convFilter(im)\n",
        "plt.subplot(1,2,1)\n",
        "plt.imshow(im.squeeze(),  matplotlib.pyplot.cm.gray)\n",
        "plt.subplot(1,2,2)\n",
        "plt.imshow(F.relu(res).squeeze().detach(), matplotlib.pyplot.cm.gray)"
      ]
    },
    {
      "cell_type": "markdown",
      "metadata": {
        "id": "Xzw4RlJpfQJc"
      },
      "source": [
        "Now try to set the convolution fiter as follows:\n",
        "$$\n",
        "\\left(\n",
        "\\begin{array}{ccc}\n",
        " -1 &2&-1\\\\\n",
        " -1 &2&-1\\\\\n",
        " -1 &2&-1\n",
        "\\end{array}\n",
        "\\right)\n",
        "$$\n",
        "and then as follows:\n",
        "$$\n",
        "\\left(\n",
        "\\begin{array}{rrr}\n",
        " -1 &-1&-1\\\\\n",
        " 2 &2&2\\\\\n",
        " -1 &-1&-1\n",
        "\\end{array}\n",
        "\\right)\n",
        "$$\n",
        "Try them on some images and visualize the results."
      ]
    },
    {
      "cell_type": "code",
      "execution_count": null,
      "metadata": {
        "scrolled": true,
        "id": "DZGAne1WfQJd"
      },
      "outputs": [],
      "source": [
        "# TODO\n"
      ]
    },
    {
      "cell_type": "markdown",
      "metadata": {
        "id": "8YZ1-f1dfQJe"
      },
      "source": [
        "# Pool !\n",
        "\n",
        "Now we introduce the max-pooling in 2 dimensions: *MaxPool2d*. Look at the documentation and then try to define the following pipeline:\n",
        "- a convolution with a kernel size of 3, stride 1 and padding 1\n",
        "- apply the ReLu function and\n",
        "- a max pooling with kernel size of 2 and a stride of 2.\n",
        "Try to guess before running your code the dimensions of the output !\n"
      ]
    },
    {
      "cell_type": "code",
      "execution_count": null,
      "metadata": {
        "scrolled": true,
        "id": "qfjHJjQ0fQJe"
      },
      "outputs": [],
      "source": [
        "# TODO\n"
      ]
    },
    {
      "cell_type": "markdown",
      "metadata": {
        "id": "S_g1vkRxfQJf"
      },
      "source": [
        "#  A first model\n",
        "\n",
        "After this interlude, the goal now is to write a class to implement the model with:\n",
        "\n",
        "- 2D convolution with (kernel size = 3, padding = 1, stride 1)\n",
        "- ReLu activation\n",
        "- Max-pooling (kernel size = 2, stride 2)\n",
        "- A final linear classifier\n",
        "- The final activation\n",
        "\n",
        "Writing this class, allows you to wrap what you have seen so far. To debug the model, you can first play step-by-step with each layer to ensure you obtain the right dimensions (it was done earlier). Then, write the class and run the training to evaluate the result (this what we have to do now).\n",
        "\n",
        "The class inherits from an existing class of pytorch : *Module*. This mean: it is a *Module*, but we add some peculiarities. For that purpose we can fill the following code:"
      ]
    },
    {
      "cell_type": "code",
      "execution_count": null,
      "metadata": {
        "id": "ecmBDDEzfQJg"
      },
      "outputs": [],
      "source": [
        "# TODO\n",
        "class FashionCNN(nn.Module):\n",
        "\n",
        "    def __init__(self, kernel_size = 3, padding= 1, out_channels = 1):\n",
        "        super(FashionCNN, self).__init__()\n",
        "        # TODO : write the end of the constructor.\n",
        "        # It is important to create here all the layers of the network.\n",
        "        # All layers that have paramaters should be attribute.\n",
        "        # For example:\n",
        "        self.conv = nn.Conv2d(in_channels=1, out_channels=out_channels,\n",
        "                              kernel_size=kernel_size, padding=padding)\n",
        "        # TODO: add the rest\n",
        "\n",
        "\n",
        "    def forward(self, x):\n",
        "        # TODO\n",
        "        # if you need to run forward with the conv layer,\n",
        "        # you can call it by self.conv\n",
        "        outconv  = self.conv(x)\n",
        "        # ...\n",
        "        return output"
      ]
    },
    {
      "cell_type": "code",
      "execution_count": null,
      "metadata": {
        "id": "nrOakWalfQJh"
      },
      "outputs": [],
      "source": [
        "# Test the class: is everything in place:\n",
        "# A first classifier is built like :\n",
        "classif = FashionCNN()\n",
        "# The parameters of the classifier are randomly initialize, but we\n",
        "# can use it on a image :\n",
        "out = classif.forward(im)\n",
        "print(out.shape) # the output has 2 dimensions\n",
        "print(out)\n",
        "\n",
        "# It is correct ? If not, correct the class to get the expected result.\n"
      ]
    },
    {
      "cell_type": "markdown",
      "metadata": {
        "id": "YQCX3sIkfQJi"
      },
      "source": [
        "# Training the model\n",
        "\n",
        "To train the model, we need to define a loss function and an optimizer. For the moment we will rely on an online learning algorithm: online stochastic gradient descent. Like the previous lab session:\n",
        "- we pick one training example\n",
        "- compute the loss\n",
        "- back-propagation of the gradient\n",
        "- update of the parameters\n",
        "\n",
        "\n",
        "At the end of one epoch, we evaluate the model on the validation step. You can use for that purpose the training function we wrote earlier.\n",
        "\n",
        "\n",
        "To train the CNN, we can reuse the training function you wrote carefully in the previous lab session. However we need to adapt it in order to use dataloaders (the `trainloader` and `validloader`)\n",
        "\n",
        "Question:\n",
        "- As optimizer we will use *Adam*. It is important to find the good choice of hyper-parameter for the initial learning rate. Try different values like 0.1, 0.01, ...\n",
        "- Then try with a number of output channel set to 1, 8, 16.\n",
        "\n"
      ]
    },
    {
      "cell_type": "code",
      "execution_count": null,
      "metadata": {
        "id": "X0J-6L4TfQJj"
      },
      "outputs": [],
      "source": [
        "# TODO : paste here the training function you wrote before.\n",
        "# Of course you can improve it if you want during the lab session.\n",
        "# Especially in terms of parameters.\n",
        "\n"
      ]
    },
    {
      "cell_type": "code",
      "execution_count": null,
      "metadata": {
        "id": "FrxD2CYcfQJk"
      },
      "outputs": [],
      "source": [
        "# TODO\n",
        "loss_fn=nn.NLLLoss()\n",
        "model = FashionCNN()\n",
        "# Train you model !"
      ]
    },
    {
      "cell_type": "markdown",
      "metadata": {
        "collapsed": true,
        "id": "ehR-eVwRfQJl"
      },
      "source": [
        "## Batch-norm\n",
        "\n",
        "Extend your model to include the Batch-normalization.\n"
      ]
    },
    {
      "cell_type": "code",
      "execution_count": null,
      "metadata": {
        "scrolled": false,
        "id": "H-SurY_ffQJm"
      },
      "outputs": [],
      "source": [
        "# TODO\n"
      ]
    },
    {
      "cell_type": "markdown",
      "metadata": {
        "collapsed": true,
        "id": "Tpm89BoAfQJn"
      },
      "source": [
        "## More convolution\n",
        "\n",
        "We can now define an extended model where the basic block is : Conv2D, ReLu, BatchNorm and MaxPool.\n",
        "We stack two blocks of this kind before the classification.\n",
        "\n",
        "For instance in the previous model, this kind of block reduce the image size and increase the number of output channels. We can try to do the same and double this number in the second block.\n",
        "\n",
        "TODO:\n",
        "- Implement a model with two blocks as decribed above.\n",
        "- We can then improve the output classifier.\n",
        "- Play with the hyper-parameters.\n",
        "\n",
        "Of course if you want to leverage a deeper model it is useful to increase the amount of training data (we only take the first 30k images until now)."
      ]
    },
    {
      "cell_type": "code",
      "execution_count": null,
      "metadata": {
        "id": "Nk_Eia26fQJo"
      },
      "outputs": [],
      "source": [
        "# TODO\n"
      ]
    },
    {
      "cell_type": "markdown",
      "metadata": {
        "id": "pKH1OvTXfQJp"
      },
      "source": [
        "# And now in color: CIFAR-10\n",
        "\n",
        "\n",
        "To experiment image classification on a coloured image, we can use the CIFAR-10 dataset.\n",
        "You can find more details for instance on this page: https://pytorch.org/tutorials/beginner/blitz/cifar10_tutorial.html. We can download the dataset with a dataloader directly:"
      ]
    },
    {
      "cell_type": "code",
      "execution_count": null,
      "metadata": {
        "id": "w8K3HlZwfQJp"
      },
      "outputs": [],
      "source": [
        "import torchvision\n",
        "import torchvision.transforms as transforms\n",
        "\n",
        "transform = transforms.Compose(\n",
        "    [transforms.ToTensor(),\n",
        "     transforms.Normalize((0.5, 0.5, 0.5), (0.5, 0.5, 0.5))])\n",
        "\n",
        "batch_size = 16\n",
        "\n",
        "trainset = torchvision.datasets.CIFAR10(root='./data', train=True,\n",
        "                                        download=True, transform=transform)\n",
        "trainloader = th.utils.data.DataLoader(trainset, batch_size=batch_size,\n",
        "                                          shuffle=True, num_workers=2)\n",
        "\n",
        "testset = torchvision.datasets.CIFAR10(root='./data', train=False,\n",
        "                                       download=True, transform=transform)\n",
        "testloader = th.utils.data.DataLoader(testset, batch_size=batch_size,\n",
        "                                         shuffle=False, num_workers=2)\n",
        "\n",
        "classes = ('plane', 'car', 'bird', 'cat',\n",
        "           'deer', 'dog', 'frog', 'horse', 'ship', 'truck')"
      ]
    },
    {
      "cell_type": "markdown",
      "metadata": {
        "id": "6yzmAirOfQJq"
      },
      "source": [
        "With this example we will use a **dataset** via a *dataloader*.  This is a convenient tool to handle datasets with efficient iterators."
      ]
    },
    {
      "cell_type": "code",
      "execution_count": null,
      "metadata": {
        "id": "wgs9CRj-fQJr"
      },
      "outputs": [],
      "source": [
        "def imshow(img):\n",
        "    img = img / 2 + 0.5     # unnormalize\n",
        "    npimg = img.numpy()\n",
        "    plt.imshow(np.transpose(npimg, (1, 2, 0)))\n",
        "    plt.show()\n"
      ]
    },
    {
      "cell_type": "code",
      "execution_count": null,
      "metadata": {
        "id": "tIjOwq9hfQJs"
      },
      "outputs": [],
      "source": [
        "dataiter = iter(trainloader)\n",
        "images, labels = dataiter.next()\n",
        "imshow(torchvision.utils.make_grid(images))"
      ]
    },
    {
      "cell_type": "markdown",
      "metadata": {
        "id": "aZss5YCnfQJt"
      },
      "source": [
        "# Todo\n",
        "\n",
        "Implement `VGG 16` architecture to get state of the art performance (see the course for the architecture)"
      ]
    },
    {
      "cell_type": "code",
      "execution_count": null,
      "metadata": {
        "id": "_LuA0cLifQJu"
      },
      "outputs": [],
      "source": []
    }
  ],
  "metadata": {
    "kernelspec": {
      "display_name": "Python 3",
      "name": "python3"
    },
    "language_info": {
      "codemirror_mode": {
        "name": "ipython",
        "version": 3
      },
      "file_extension": ".py",
      "mimetype": "text/x-python",
      "name": "python",
      "nbconvert_exporter": "python",
      "pygments_lexer": "ipython3",
      "version": "3.9.19"
    },
    "toc": {
      "base_numbering": 1,
      "nav_menu": {},
      "number_sections": true,
      "sideBar": true,
      "skip_h1_title": false,
      "title_cell": "Table of Contents",
      "title_sidebar": "Contents",
      "toc_cell": false,
      "toc_position": {},
      "toc_section_display": true,
      "toc_window_display": false
    },
    "colab": {
      "provenance": [],
      "gpuType": "T4"
    },
    "accelerator": "GPU"
  },
  "nbformat": 4,
  "nbformat_minor": 0
}