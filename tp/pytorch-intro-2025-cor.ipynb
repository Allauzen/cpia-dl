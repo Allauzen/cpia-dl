{
 "cells": [
  {
   "cell_type": "markdown",
   "metadata": {},
   "source": [
    "This notebook is a simple introduction to pytorch, assuming you already know  python, numpy and the notebooks. PyTorch is a python module dedicated to deep-learning. Everything is based on a specific data structure: the tensor. \n",
    "\n",
    "Machine learning basically relies on three components: \n",
    "- the model: in this course this is a Neural Network and in pytorch a **module**\n",
    "- the model is trained to minimize a **loss** function\n",
    "- this minization can be achieved with gradient descent (or one of its variant) with an **optimizer**. \n",
    "In this notbook we will introduce these 3 components and also the basic data structure (the tensors). \n",
    "\n",
    "\n",
    "To start with pytorch, here are some external websites: \n",
    "- http://pytorch.org/tutorials/ : official tutorials\n",
    "- http://pytorch.org/docs/master/ : official documentation\n",
    "\n",
    "Before, check the version of pytorch"
   ]
  },
  {
   "cell_type": "code",
   "execution_count": 30,
   "metadata": {},
   "outputs": [
    {
     "name": "stdout",
     "output_type": "stream",
     "text": [
      "1.12.1\n"
     ]
    }
   ],
   "source": [
    "import torch as th\n",
    "print(th.__version__)\n",
    "import matplotlib.pyplot as plt\n",
    "import torch.nn as nn\n",
    "import numpy as np"
   ]
  },
  {
   "cell_type": "markdown",
   "metadata": {},
   "source": [
    "You should have a version of at least 1.0.0. "
   ]
  },
  {
   "cell_type": "markdown",
   "metadata": {},
   "source": [
    "# Tensor: overview \n",
    "\n",
    "Tensors are the PyTorch very similar to `numpy` arrays, with the additional features like  GPU acceleration. The name **tensor** is a generalization of familiar concepts: a vector is a 1-D tensor, and a matrix a 2-D tensor. When working with neural networks, we will use tensors of various shapes and number of dimensions.\n",
    "\n",
    "Most common functions you know from numpy can be used on tensors as well. Actually, since numpy arrays are so similar to tensors, we can convert most tensors to numpy arrays (and back) \n",
    "\n",
    "## Initialization\n",
    "\n",
    "How to create tensors ? There are many ways. "
   ]
  },
  {
   "cell_type": "code",
   "execution_count": 2,
   "metadata": {},
   "outputs": [
    {
     "name": "stdout",
     "output_type": "stream",
     "text": [
      "tensor([[[1.0396e+21, 2.3078e-12, 1.3563e-19, 2.1701e-18],\n",
      "         [1.0995e+27, 1.7542e+19, 1.5766e-19, 1.8513e+28],\n",
      "         [7.5511e+31, 7.8229e-33, 1.3563e-19, 1.1704e-19]],\n",
      "\n",
      "        [[8.3142e+35, 1.3563e-19, 2.1701e-18, 4.3605e+27],\n",
      "         [1.5766e-19, 1.8523e+28, 2.0228e+20, 2.1717e+29],\n",
      "         [7.0087e+28, 5.4201e-11, 3.2174e-18, 1.3556e-19]]])\n",
      "torch.float32\n",
      "tensor([[[ 539692336,          0,  523911312,          0],\n",
      "         [1651883760,      30900,          0,          0],\n",
      "         [         0,          0,          0,          0]],\n",
      "\n",
      "        [[         0,          0,          0,          0],\n",
      "         [         0,          0,          1,          0],\n",
      "         [         0,          0,          0,          0]]], dtype=torch.int32)\n",
      "torch.int32\n"
     ]
    }
   ],
   "source": [
    "x = th.Tensor(2, 3, 4)\n",
    "print(x)\n",
    "print(x.dtype)\n",
    "\n",
    "x = th.IntTensor(2, 3, 4)\n",
    "print(x)\n",
    "print(x.dtype)\n",
    "\n"
   ]
  },
  {
   "cell_type": "markdown",
   "metadata": {},
   "source": [
    "Can you explain the result ? \n",
    "\n",
    "There more convenient way to do, try the following methods and look at their results: \n",
    "- th.zeros\n",
    "- th.ones\n",
    "- th.rand\n",
    "- th.randn\n",
    "- th.arange\n",
    "\n",
    "\n"
   ]
  },
  {
   "cell_type": "code",
   "execution_count": 3,
   "metadata": {},
   "outputs": [],
   "source": [
    "# If you want help \n",
    "?th.zeros"
   ]
  },
  {
   "cell_type": "markdown",
   "metadata": {},
   "source": [
    "## Acces and shape\n",
    "Play with the following code cells\n"
   ]
  },
  {
   "cell_type": "code",
   "execution_count": 4,
   "metadata": {},
   "outputs": [
    {
     "name": "stdout",
     "output_type": "stream",
     "text": [
      "tensor([[-6.9998e-01,  6.3418e-01],\n",
      "        [ 1.1701e+00, -1.6999e-01],\n",
      "        [-1.1662e+00, -5.1793e-02],\n",
      "        [ 2.7418e-01,  1.3030e+00],\n",
      "        [-6.1750e-05,  4.0865e-01]])\n",
      "tensor([-0.7000,  0.6342])\n",
      "tensor([-6.9998e-01,  1.1701e+00, -1.1662e+00,  2.7418e-01, -6.1750e-05,\n",
      "         1.8360e-01, -3.6615e-01,  2.6535e-01,  9.5983e-01, -9.5566e-01])\n",
      "tensor(0.6342)\n",
      "tensor([-0.9557,  1.2420])\n",
      "tensor([[ 0.9598,  1.3597],\n",
      "        [-0.9557,  1.2420]])\n",
      "tensor([ 0.9598, -0.9557])\n"
     ]
    }
   ],
   "source": [
    "n = 10\n",
    "X = th.rand(n, 2) * 3 - 1.5\n",
    "\n",
    "print(X[:5]) # 10 elements\n",
    "print(X[0]) # first row\n",
    "print(X[:,0]) # first column\n",
    "print(X[0,1]) # element at a given location\n",
    "# and for the following \n",
    "print(X[-1])\n",
    "print(X[-2:])\n",
    "print(X[-2:,0])\n"
   ]
  },
  {
   "cell_type": "code",
   "execution_count": 5,
   "metadata": {},
   "outputs": [
    {
     "name": "stdout",
     "output_type": "stream",
     "text": [
      "torch.Size([10, 2])\n",
      "2\n",
      "torch.Size([10, 2])\n",
      "2\n"
     ]
    }
   ],
   "source": [
    "print(X.size())\n",
    "print(X.size(1))\n",
    "print(X.shape)\n",
    "print(X.shape[1])\n",
    "\n"
   ]
  },
  {
   "cell_type": "markdown",
   "metadata": {},
   "source": [
    "Becareful with modifications:"
   ]
  },
  {
   "cell_type": "code",
   "execution_count": 6,
   "metadata": {},
   "outputs": [
    {
     "name": "stdout",
     "output_type": "stream",
     "text": [
      "X1 (before) tensor([[0.2511, 0.1859, 0.6035],\n",
      "        [0.2375, 0.7214, 0.5166]])\n",
      "X2 (before) tensor([[0.2511, 0.1859, 0.6035],\n",
      "        [0.2375, 0.7214, 0.5166]])\n",
      "X1 (after) tensor([[0.2511, 0.1859, 0.6035],\n",
      "        [0.0000, 0.0000, 0.0000]])\n",
      "X2 (after) tensor([[0.2511, 0.1859, 0.6035],\n",
      "        [0.0000, 0.0000, 0.0000]])\n"
     ]
    }
   ],
   "source": [
    "x1 = th.rand(2, 3)\n",
    "x2 = x1\n",
    "print(\"X1 (before)\", x1)\n",
    "print(\"X2 (before)\", x2)\n",
    "\n",
    "x2[-1]= 0\n",
    "print(\"X1 (after)\", x1)\n",
    "print(\"X2 (after)\", x2)"
   ]
  },
  {
   "cell_type": "markdown",
   "metadata": {},
   "source": [
    "## Operations\n",
    "\n",
    "Most operations that exist in numpy, also exist in PyTorch. A full list of operations can be found in the PyTorch documentation. The simplest one to add two tensors:\n"
   ]
  },
  {
   "cell_type": "code",
   "execution_count": 7,
   "metadata": {},
   "outputs": [
    {
     "name": "stdout",
     "output_type": "stream",
     "text": [
      "X1 tensor([[0.0879, 0.9802, 0.9823],\n",
      "        [0.0840, 0.8342, 0.7042]])\n",
      "X2 tensor([[0.8866, 0.9583, 0.5170],\n",
      "        [0.9000, 0.8186, 0.8637]])\n",
      "Y tensor([[0.9745, 1.9385, 1.4993],\n",
      "        [0.9841, 1.6529, 1.5679]])\n"
     ]
    }
   ],
   "source": [
    "x1 = th.rand(2, 3)\n",
    "x2 = th.rand(2, 3)\n",
    "y = x1 + x2\n",
    "\n",
    "print(\"X1\", x1)\n",
    "print(\"X2\", x2)\n",
    "print(\"Y\", y)"
   ]
  },
  {
   "cell_type": "markdown",
   "metadata": {},
   "source": [
    "Calling `x1 + x2` creates a new tensor containing the sum of the two inputs. However, we can also use in-place operations that are applied directly on the memory of a tensor. We therefore change the values of `x2` without the chance to re-accessing the previous values of `x2`. In-place operations are usually marked with a underscore postfix like `add_` instead of `add`."
   ]
  },
  {
   "cell_type": "code",
   "execution_count": 8,
   "metadata": {},
   "outputs": [
    {
     "name": "stdout",
     "output_type": "stream",
     "text": [
      "X1 (before) tensor([[0.4701, 0.9088, 0.2908],\n",
      "        [0.7729, 0.0218, 0.5851]])\n",
      "X2 (before) tensor([[0.9026, 0.5543, 0.7825],\n",
      "        [0.2053, 0.5283, 0.0675]])\n",
      "X1 (after) tensor([[0.4701, 0.9088, 0.2908],\n",
      "        [0.7729, 0.0218, 0.5851]])\n",
      "X2 (after) tensor([[1.3727, 1.4632, 1.0733],\n",
      "        [0.9782, 0.5500, 0.6525]])\n"
     ]
    }
   ],
   "source": [
    "x1 = th.rand(2, 3)\n",
    "x2 = th.rand(2, 3)\n",
    "print(\"X1 (before)\", x1)\n",
    "print(\"X2 (before)\", x2)\n",
    "\n",
    "x2.add_(x1)\n",
    "print(\"X1 (after)\", x1)\n",
    "print(\"X2 (after)\", x2)"
   ]
  },
  {
   "cell_type": "markdown",
   "metadata": {},
   "source": [
    "## Exercises\n",
    "\n",
    "* Extract the first row and the last row (do the same with columns)\n",
    "* Build a matrix  A of dimension (2,3), a matrix  B (2,1) et and  C (1,4) with random initialisation. \n",
    "* Concatenate A with B, and add the results with C. \n",
    "* Create A (5,4), then B (3,4) which contains in this order: the second, the first and the fourth row of A. "
   ]
  },
  {
   "cell_type": "code",
   "execution_count": null,
   "metadata": {},
   "outputs": [],
   "source": []
  },
  {
   "cell_type": "markdown",
   "metadata": {},
   "source": [
    "Look at the following code and how  x2 is built from x. "
   ]
  },
  {
   "cell_type": "code",
   "execution_count": 9,
   "metadata": {},
   "outputs": [
    {
     "name": "stdout",
     "output_type": "stream",
     "text": [
      "tensor([[ 0.2785,  0.9864,  1.1736,  1.2440],\n",
      "        [-0.3014, -0.1776, -0.8325,  1.3020],\n",
      "        [ 1.6088,  0.5281, -0.5750,  0.2981],\n",
      "        [ 0.1641, -1.2345, -1.0626, -0.0459],\n",
      "        [ 0.4523, -1.4217,  0.1971,  0.2276]])\n",
      "tensor([[ 0.2785,  0.9864,  1.1736,  1.2440],\n",
      "        [-0.3014, -0.1776, -0.8325,  1.3020],\n",
      "        [ 1.6088,  0.5281, -0.5750,  0.2981],\n",
      "        [ 0.1641, -1.2345, -1.0626, -0.0459],\n",
      "        [ 0.4523, -1.4217,  0.1971,  0.2276]])\n",
      "torch.Size([2, 5, 4])\n",
      "tensor([[0.2785, 0.9864, 1.1736, 1.2440],\n",
      "        [0.2785, 0.9864, 1.1736, 1.2440]])\n",
      "torch.Size([5, 2, 4])\n",
      "tensor([[0.2785, 0.2785],\n",
      "        [0.9864, 0.9864],\n",
      "        [1.1736, 1.1736],\n",
      "        [1.2440, 1.2440]])\n",
      "torch.Size([5, 4, 2])\n"
     ]
    }
   ],
   "source": [
    "x = th.randn(5, 4)\n",
    "print(x)\n",
    "\n",
    "x2= th.stack((x,x) , dim=0)\n",
    "print (x2[0]) \n",
    "print (x2.size()) \n",
    "\n",
    "x2= th.stack((x,x) , dim=1)\n",
    "print (x2[0]) \n",
    "print (x2.size()) \n",
    "\n",
    "x2= th.stack((x,x) , dim=2)\n",
    "print (x2[0]) \n",
    "print (x2.size())\n"
   ]
  },
  {
   "cell_type": "markdown",
   "metadata": {},
   "source": [
    "## Reshape and squeeze\n",
    "\n",
    "The method **view()** is similar to *reshape*. This is **important** since with neural net, you will often need to play with dimensions. \n",
    "\n",
    "* Build a tensor of size (2, 3, 4)\n",
    "* Convert it in a matrix of dimension (3,8) and (2,12)\n",
    "* What does  *view(2,-1)*  do ? "
   ]
  },
  {
   "cell_type": "code",
   "execution_count": 10,
   "metadata": {},
   "outputs": [
    {
     "name": "stdout",
     "output_type": "stream",
     "text": [
      "tensor([[[ 0,  1,  2,  3],\n",
      "         [ 4,  5,  6,  7],\n",
      "         [ 8,  9, 10, 11]],\n",
      "\n",
      "        [[12, 13, 14, 15],\n",
      "         [16, 17, 18, 19],\n",
      "         [20, 21, 22, 23]]])\n",
      "tensor([[[ 0,  1],\n",
      "         [ 2,  3],\n",
      "         [ 4,  5],\n",
      "         [ 6,  7]],\n",
      "\n",
      "        [[ 8,  9],\n",
      "         [10, 11],\n",
      "         [ 0,  0],\n",
      "         [ 0,  0]],\n",
      "\n",
      "        [[ 0,  0],\n",
      "         [ 0,  0],\n",
      "         [ 0,  0],\n",
      "         [ 0,  0]]])\n",
      "tensor([[ 0,  1,  2,  3,  4,  5,  6,  7,  8,  9, 10, 11],\n",
      "        [ 0,  0,  0,  0,  0,  0,  0,  0,  0,  0,  0,  0]])\n"
     ]
    }
   ],
   "source": [
    "a = th.arange(24).view(2,3,4)\n",
    "print(a)\n",
    "\n",
    "b = a.view(-1,4,2)\n",
    "a[-1] = 0\n",
    "print(b)\n",
    "print(a.view(2,12))\n"
   ]
  },
  {
   "cell_type": "markdown",
   "metadata": {},
   "source": [
    "Assume you have a Tensor A of dimensions (3,2,1) that you initialized as you want:\n",
    "- look at the documentation of the method **squeeze**\n",
    "- Try it on A\n",
    "- And do the reverse with unsqueeze"
   ]
  },
  {
   "cell_type": "code",
   "execution_count": 11,
   "metadata": {},
   "outputs": [
    {
     "name": "stdout",
     "output_type": "stream",
     "text": [
      "torch.Size([4, 1, 3, 1])\n",
      "torch.Size([4, 3])\n"
     ]
    },
    {
     "data": {
      "text/plain": [
       "torch.Size([4, 3, 1])"
      ]
     },
     "execution_count": 11,
     "metadata": {},
     "output_type": "execute_result"
    }
   ],
   "source": [
    "a = th.randn(4,1,3,1)\n",
    "print(a.shape)\n",
    "a.squeeze_()\n",
    "print(a.shape)\n",
    "a.unsqueeze(-1).shape"
   ]
  },
  {
   "cell_type": "markdown",
   "metadata": {},
   "source": [
    "**Warning**: `view` is not  `transpose`"
   ]
  },
  {
   "cell_type": "code",
   "execution_count": 12,
   "metadata": {},
   "outputs": [
    {
     "name": "stdout",
     "output_type": "stream",
     "text": [
      "tensor([[ 0,  1,  2,  3],\n",
      "        [ 4,  5,  6,  7],\n",
      "        [ 8,  9, 10, 11]])\n",
      "tensor([[ 0,  1,  2],\n",
      "        [ 3,  4,  5],\n",
      "        [ 6,  7,  8],\n",
      "        [ 9, 10, 11]])\n"
     ]
    }
   ],
   "source": [
    "x = th.arange(0,12).view(3,4)\n",
    "print(x)\n",
    "x = x.view(4,3)\n",
    "print(x)"
   ]
  },
  {
   "cell_type": "markdown",
   "metadata": {},
   "source": [
    "Compare with the `transpose` operation"
   ]
  },
  {
   "cell_type": "code",
   "execution_count": 13,
   "metadata": {},
   "outputs": [
    {
     "name": "stdout",
     "output_type": "stream",
     "text": [
      "tensor([[ 0,  4,  8],\n",
      "        [ 1,  5,  9],\n",
      "        [ 2,  6, 10],\n",
      "        [ 3,  7, 11]])\n"
     ]
    }
   ],
   "source": [
    "x = th.arange(0,12).view(3,4)\n",
    "print(x.t())"
   ]
  },
  {
   "cell_type": "markdown",
   "metadata": {},
   "source": [
    "# Pytorch overview\n",
    "\n",
    "## Tensor  overview\n",
    "For users who are familiar with numpy arrays, the PyTorch **Tensor** class is very similar. PyTorch is like NumPy, but with GPU acceleration and automatic computation of gradients. This  makes it suitable for deep learning: calculating backward pass data automatically starting from a forward expression.\n",
    "\n",
    "The forward pass is implemented as a computation graph. The **Tensor** is the basic piece of this computation graph, to encode the data (input/output) and the parameters of the model. \n",
    "A Tensor is both a tensor (like a numpy array or a matlab matrix) and a variable (or a node) of the computation graph. A Tensor can store data and the associated gradients.\n",
    "\n",
    "\n",
    "\n",
    "**IMPORTANT NOTE: ** Since torch 0.3, a **Tensor** is a **Variable** that wraps a tensor. Before these 2 concepts were separated. \n",
    "\n",
    "## Module overview\n",
    "\n",
    "A module is a part of a NNet. It may contains Tensors. The core PyTorch modules for building neural networks are located in *torch.nn*, which provides common neural network layers and other architectural components. Fully connected layers, convolutional layers, activation functions, and loss functions can all be found here. Modules can be seen as pre-built pieces of computation graph. \n",
    "\n",
    "A simple example of *module* is `Linear`: it's a fully connected layer, so a linear transformation of the input. It contains a matrix of parameters (a Tensor). Activation function are also `Module`. You can therefore create a cascade of `Linear` module with a `Sigmoid`, for example. \n",
    "\n",
    "A special kind of module is a *container* : a module that contains other module. The most widely used is `Sequential`: it's a container to implement a feed-forward network. When you create a `Sequential` object you pass him an ordered list of modules to create the cascade of operation. \n",
    "\n",
    "\n",
    "## Gradient computation and optimization\n",
    "To learn the model, we need to things: \n",
    "- Compute the gradient of the loss with respect to the parameters. The gradients are computed via auto-differentiation. This is the role of the **backward** function.  \n",
    "- Update the parameters, with these gradient values. This is the role of the **optimizer**. The optimizer is an object that manages the gradient descent updates. "
   ]
  },
  {
   "cell_type": "markdown",
   "metadata": {},
   "source": [
    "# Automatic differentiation  (auto-grad)\n",
    "\n",
    "`torch.autograd` provides classes and functions implementing automatic differentiation. \n",
    "When a tensor is created with `requires_grad=True`, the object will be able to store information about the gradient. In the following example, we build a computational graph. The \"end\" of this graph must be a scalar for automatic differentiation. Look at the following code. \n",
    "\n"
   ]
  },
  {
   "cell_type": "code",
   "execution_count": 14,
   "metadata": {},
   "outputs": [
    {
     "name": "stdout",
     "output_type": "stream",
     "text": [
      "x: tensor([[0.6796]], requires_grad=True)\n",
      "x.grad: None\n"
     ]
    }
   ],
   "source": [
    "x = th.randn(1, 1, requires_grad=True)\n",
    "print(\"x:\",x)\n",
    "print(\"x.grad:\",x.grad)"
   ]
  },
  {
   "cell_type": "markdown",
   "metadata": {},
   "source": [
    "The Tensor `x` has an attribute `grad`. It is set to None for the moment.\n",
    "To build a computational graph using `x`, we just need to create new variables using torch operation.  The function `backward` can be called on a Tensor that contains a scalar. It computes the gradient (the partial derivatives) of the this scalar value with respect to all the Tensors involved in the computation. Look at the following code:"
   ]
  },
  {
   "cell_type": "code",
   "execution_count": 15,
   "metadata": {},
   "outputs": [
    {
     "name": "stdout",
     "output_type": "stream",
     "text": [
      "tensor([[2.3593]], grad_fn=<AddBackward0>)\n",
      "tensor([[2.]])\n"
     ]
    }
   ],
   "source": [
    "y = 2*x+1 \n",
    "print(y)\n",
    "y.backward()\n",
    "print(x.grad)"
   ]
  },
  {
   "cell_type": "markdown",
   "metadata": {},
   "source": [
    "Can you explain the result ? "
   ]
  },
  {
   "cell_type": "markdown",
   "metadata": {},
   "source": [
    "The computation graph can be of course deeper. For instance, we can introduce a new variable `w`, a tensor as well. "
   ]
  },
  {
   "cell_type": "code",
   "execution_count": 16,
   "metadata": {},
   "outputs": [
    {
     "name": "stdout",
     "output_type": "stream",
     "text": [
      "w= -2.2757728099823  and x= -0.790955126285553\n"
     ]
    }
   ],
   "source": [
    "w = th.randn(1,1, requires_grad=True)\n",
    "x = th.randn(1, 1, requires_grad=True)\n",
    "\n",
    "print(\"w=\",w.item(),\" and x=\",x.item())"
   ]
  },
  {
   "cell_type": "code",
   "execution_count": 17,
   "metadata": {},
   "outputs": [
    {
     "name": "stdout",
     "output_type": "stream",
     "text": [
      "tensor([[-2.2758]])\n",
      "tensor([[-0.7910]])\n"
     ]
    }
   ],
   "source": [
    "z = w*x\n",
    "z.backward()\n",
    "print(x.grad)\n",
    "print(w.grad)"
   ]
  },
  {
   "cell_type": "markdown",
   "metadata": {},
   "source": [
    "What do you think about the result ? \n"
   ]
  },
  {
   "cell_type": "markdown",
   "metadata": {},
   "source": [
    "It is worth noticing that the gradient is a tensor operation on a scalar value: we compute the partial derivative of a scalar quantity w.r.t a tensor. The variable on which we run the backward must be a single value. \n",
    "\n",
    "Let us consider the following code: can you explain the results ? "
   ]
  },
  {
   "cell_type": "code",
   "execution_count": 18,
   "metadata": {},
   "outputs": [
    {
     "name": "stdout",
     "output_type": "stream",
     "text": [
      "g: tensor([[-2.2650, -0.8126],\n",
      "        [ 0.9093,  0.7898]])\n",
      "x: tensor([[-1.1325, -0.4063],\n",
      "        [ 0.4546,  0.3949]], requires_grad=True)\n"
     ]
    }
   ],
   "source": [
    "x = th.randn(2,2,requires_grad=True)        # x is a square matrix\n",
    "# print(x)\n",
    "out = x.pow(2).sum() # out is a new variable (scalar)\n",
    "out.backward()           # back propagation in the graph\n",
    "print(\"g:\",x.grad)       # the gradient of out with respect to x \n",
    "print(\"x:\",x)            # A simple check. Is it what expected ?  "
   ]
  },
  {
   "cell_type": "markdown",
   "metadata": {},
   "source": [
    "And for this example  ? "
   ]
  },
  {
   "cell_type": "code",
   "execution_count": 19,
   "metadata": {},
   "outputs": [
    {
     "name": "stdout",
     "output_type": "stream",
     "text": [
      "tensor([[ 0.2411, -0.2697],\n",
      "        [-0.6332, -0.5819]], requires_grad=True)\n",
      "tensor([[1., 1.]], requires_grad=True)\n",
      "x: tensor([[ 0.2411, -0.2697],\n",
      "        [-0.6332, -0.5819]], requires_grad=True)\n",
      "x.grad: tensor([[-0.3920, -0.8516],\n",
      "        [-0.3920, -0.8516]])\n",
      "w: tensor([[1., 1.]], requires_grad=True)\n",
      "w.grad: tensor([[0.1351, 0.7438]])\n"
     ]
    }
   ],
   "source": [
    "x = th.randn(2,2,requires_grad=True)        # x is a square matrix\n",
    "print(x)\n",
    "w = th.ones(1,2,requires_grad=True)\n",
    "print(w)\n",
    "out = 0.5*(w@x).pow(2).sum() # out is a new variable (scalar)\n",
    "out.backward()           # back propagation in the graph\n",
    "print(\"x:\",x)            \n",
    "print(\"x.grad:\",x.grad)  # the gradient of out with respect to x \n",
    "print(\"w:\",w)            \n",
    "print(\"w.grad:\",w.grad)  # the gradient of out with respect to x "
   ]
  },
  {
   "cell_type": "markdown",
   "metadata": {},
   "source": [
    "# Machine Learning (or linear regression with gradient descent)\n",
    "\n",
    "In this section we consider a synthetic problem of regression. The data are generated like this: "
   ]
  },
  {
   "cell_type": "code",
   "execution_count": 20,
   "metadata": {},
   "outputs": [
    {
     "data": {
      "image/png": "[encoded data removed]",
      "text/plain": [
       "<Figure size 640x480 with 1 Axes>"
      ]
     },
     "metadata": {},
     "output_type": "display_data"
    }
   ],
   "source": [
    "th.manual_seed(123) # to ensure reproducibility\n",
    "var= 1 # \n",
    "Npoints = 20\n",
    "X = th.arange(Npoints) + th.randn(Npoints)/var\n",
    "Y = 2*(th.arange(Npoints) + th.randn(Npoints)/var) + 0.5 \n",
    "# \n",
    "_ = plt.scatter(X,Y)"
   ]
  },
  {
   "cell_type": "markdown",
   "metadata": {},
   "source": [
    "Our goal is to approximate this simple data set with a function $f$ such that \n",
    "$$\n",
    "y_i \\approx f(x_i)\n",
    "$$ \n",
    "To find the right set of parameters that defines $f$, we want to minimize the mean square error:\n",
    "$$ L = \\sum_i (f(x_i) - y_i)^2.$$\n",
    "Our first assumption is that $f$ is a linear function: \n",
    "$$ f(x) = wx+w_0.$$\n",
    "\n",
    "The optimization program (or the gradient descent) starts with the random initialization of  the parameters $(w,w_0)$ "
   ]
  },
  {
   "cell_type": "code",
   "execution_count": 21,
   "metadata": {},
   "outputs": [],
   "source": [
    "w = th.randn(1,requires_grad=True)\n",
    "w0= th.randn(1,requires_grad=True)"
   ]
  },
  {
   "cell_type": "markdown",
   "metadata": {},
   "source": [
    "If we plot the line and the training points, this is not good (or you are very lucky):"
   ]
  },
  {
   "cell_type": "code",
   "execution_count": 22,
   "metadata": {},
   "outputs": [
    {
     "data": {
      "text/plain": [
       "<matplotlib.collections.PathCollection at 0x78b462571970>"
      ]
     },
     "execution_count": 22,
     "metadata": {},
     "output_type": "execute_result"
    },
    {
     "data": {
      "image/png": "[encoded data removed]",
      "text/plain": [
       "<Figure size 640x480 with 1 Axes>"
      ]
     },
     "metadata": {},
     "output_type": "display_data"
    }
   ],
   "source": [
    "xs = th.linspace(0,Npoints,2) # need 2 points for a line\n",
    "plt.plot(xs,(w*xs+w0).detach(),'r')\n",
    "plt.scatter(X,Y)\n"
   ]
  },
  {
   "cell_type": "markdown",
   "metadata": {},
   "source": [
    "**TODO**: To quantify the poor quality of this random initialization, compute the loss function. "
   ]
  },
  {
   "cell_type": "code",
   "execution_count": 23,
   "metadata": {},
   "outputs": [
    {
     "name": "stdout",
     "output_type": "stream",
     "text": [
      "torch.Size([20]) torch.Size([20])\n",
      "l= tensor(1225.2451, grad_fn=<DivBackward0>)\n",
      "w0.grad tensor([-60.3328])\n",
      "torch.Size([20]) torch.Size([20])\n",
      "l tensor(725.0770, grad_fn=<DivBackward0>)\n"
     ]
    }
   ],
   "source": [
    "lr = 1e-3\n",
    "\n",
    "w = th.randn(1,requires_grad=True)\n",
    "w0= th.randn(1,requires_grad=True)\n",
    "\n",
    "ypred = w0 + w*X\n",
    "print(X.shape, ypred.shape)\n",
    "l = (Y-ypred)**2\n",
    "l = l.sum()/20\n",
    "print(\"l=\",l)\n",
    "l.backward()\n",
    "print(\"w0.grad\", w0.grad)\n",
    "w0 = w0 - lr*w0.grad\n",
    "w = w - lr*w.grad\n",
    "ypred = w0 + w*X\n",
    "print(X.shape, ypred.shape)\n",
    "l = (Y-ypred)**2\n",
    "l = l.sum()/20\n",
    "print(\"l\",l)"
   ]
  },
  {
   "cell_type": "code",
   "execution_count": 36,
   "metadata": {},
   "outputs": [
    {
     "name": "stdout",
     "output_type": "stream",
     "text": [
      "tensor([2.0775], requires_grad=True) tensor([-0.2720], requires_grad=True)\n"
     ]
    }
   ],
   "source": [
    "print(w,w0)"
   ]
  },
  {
   "cell_type": "markdown",
   "metadata": {},
   "source": [
    "**TODO:** Use the `backward` function to get the gradient of the loss with respect to the parameters. \n",
    "- Print the gradients.\n",
    "- Propose an update of the parameters \n",
    "- Verify if it improves the loss function"
   ]
  },
  {
   "cell_type": "code",
   "execution_count": null,
   "metadata": {},
   "outputs": [],
   "source": []
  },
  {
   "cell_type": "markdown",
   "metadata": {},
   "source": [
    "# Optimizer \n",
    "\n",
    "The optimizer is an object that takes care of the parameter updates. The base class is `Optimizer` and the code is in the module `torch.optim`. Among the possible optimizer you can look at the documentation of `SGD`:\n",
    "\n",
    "**TODO:** \n",
    "- Explain the parameters `lr`;\n",
    "- `weight_decay`;\n",
    "\n",
    "\n",
    "In the future, you will also use `Adam`, but for the moment we focus on `SGD`.  \n",
    "They all have the same (more or less) the same interface. \n",
    "To create an optimizer we need to create an object `SGD` with: \n",
    "- the parameters under consideration\n",
    "- and the lr parameter. \n",
    "\n",
    "Assume here we want to learn `w` and `w0`: "
   ]
  },
  {
   "cell_type": "code",
   "execution_count": null,
   "metadata": {},
   "outputs": [],
   "source": [
    "w = th.randn(1,requires_grad=True)\n",
    "w0= th.randn(1,requires_grad=True)\n",
    "trainable_parameters = (w,w0)\n",
    "sgd = th.optim.SGD(trainable_parameters, lr=1)"
   ]
  },
  {
   "cell_type": "markdown",
   "metadata": {},
   "source": [
    "The two important functions are: \n",
    "- `step` take the gradient of all the trainable parameters and make the update (remember we now have values for `w.grad` and `w0.grad`)\n",
    "- and `zero_grad` resets the gradient values for a next training step.  \n",
    "\n",
    "**TODO:**\n",
    "- Compute the predicions for `X`\n",
    "- Do the backward propagation and print `w,w0` with their gradients\n",
    "- Make an update  and print `w,w0` with their gradients\n",
    "- Run `zero_grad`  and print `w,w0` with their gradients\n",
    "- Plot the new line defined by `w,w0`. \n",
    "- Do you think the value of `lr` is adapted ? "
   ]
  },
  {
   "cell_type": "code",
   "execution_count": 34,
   "metadata": {},
   "outputs": [
    {
     "name": "stdout",
     "output_type": "stream",
     "text": [
      "0 187.03367614746094\n",
      "1 147.99295043945312\n",
      "2 117.50614166259766\n",
      "3 93.69898986816406\n",
      "4 75.10804748535156\n",
      "5 60.59038162231445\n",
      "6 49.25357437133789\n",
      "7 40.400657653808594\n",
      "8 33.48740768432617\n",
      "9 28.088857650756836\n",
      "10 23.873117446899414\n",
      "11 20.58104133605957\n",
      "12 18.010250091552734\n",
      "13 16.002716064453125\n",
      "14 14.435015678405762\n",
      "15 13.210786819458008\n",
      "16 12.254775047302246\n",
      "17 11.508214950561523\n",
      "18 10.925210952758789\n",
      "19 10.469929695129395\n",
      "20 10.11439037322998\n",
      "21 9.836736679077148\n",
      "22 9.619898796081543\n",
      "23 9.450559616088867\n",
      "24 9.318307876586914\n",
      "25 9.215021133422852\n",
      "26 9.134344100952148\n",
      "27 9.071332931518555\n",
      "28 9.022115707397461\n",
      "29 8.983665466308594\n",
      "30 8.95362663269043\n",
      "31 8.930155754089355\n",
      "32 8.911813735961914\n",
      "33 8.897472381591797\n",
      "34 8.886260986328125\n",
      "35 8.877492904663086\n",
      "36 8.870633125305176\n",
      "37 8.865257263183594\n",
      "38 8.861051559448242\n",
      "39 8.857746124267578\n",
      "40 8.855155944824219\n",
      "41 8.853116989135742\n",
      "42 8.851511001586914\n",
      "43 8.850241661071777\n",
      "44 8.849241256713867\n",
      "45 8.848440170288086\n",
      "46 8.847806930541992\n",
      "47 8.847291946411133\n",
      "48 8.846874237060547\n",
      "49 8.846539497375488\n"
     ]
    },
    {
     "data": {
      "text/plain": [
       "[<matplotlib.lines.Line2D at 0x78b4607cb130>]"
      ]
     },
     "execution_count": 34,
     "metadata": {},
     "output_type": "execute_result"
    },
    {
     "data": {
      "image/png": "[encoded data removed]",
      "text/plain": [
       "<Figure size 640x480 with 1 Axes>"
      ]
     },
     "metadata": {},
     "output_type": "display_data"
    }
   ],
   "source": [
    "maxepoch=50\n",
    "N = X.shape[0]\n",
    "w = th.randn(1,requires_grad=True)\n",
    "w0= th.randn(1,requires_grad=True)\n",
    "trainable_parameters = (w,w0)\n",
    "sgd = th.optim.SGD(trainable_parameters, lr=5e-4)\n",
    "trainloss = np.zeros(maxepoch)\n",
    "for i in range(maxepoch):\n",
    "    # 1/ inference \n",
    "    ypred = w0+w*X\n",
    "    # 2/ calculer le cout\n",
    "    l = ((Y-ypred)**2).sum()/N\n",
    "    print(i,l.item())\n",
    "    trainloss[i] = l.item()\n",
    "    # 3/ backprop\n",
    "    l.backward()\n",
    "    # 4/ Update \n",
    "    sgd.step()\n",
    "    # maintenance \n",
    "    sgd.zero_grad()\n",
    "plt.plot(trainloss)"
   ]
  },
  {
   "cell_type": "code",
   "execution_count": 39,
   "metadata": {},
   "outputs": [
    {
     "data": {
      "image/png": "[encoded data removed]",
      "text/plain": [
       "<Figure size 640x480 with 1 Axes>"
      ]
     },
     "metadata": {},
     "output_type": "display_data"
    }
   ],
   "source": [
    "xs = th.linspace(0,Npoints,2) # need 2 points for a line\n",
    "plt.plot(xs,(w*xs+w0).detach(),'r')\n",
    "plt.plot(xs,(2*xs+0.5).detach(),'g')\n",
    "\n",
    "plt.scatter(X,Y)\n",
    "plt.grid()\n"
   ]
  },
  {
   "cell_type": "code",
   "execution_count": 52,
   "metadata": {},
   "outputs": [
    {
     "name": "stderr",
     "output_type": "stream",
     "text": [
      "/tmp/ipykernel_107276/2772374424.py:3: FutureWarning: `rcond` parameter will change to the default of machine precision times ``max(M, N)`` where M and N are the input matrix dimensions.\n",
      "To use the future default and silence this warning we advise to pass `rcond=None`, to keep using the old, explicitly pass `rcond=-1`.\n",
      "  np.linalg.lstsq(Z,Y.numpy())\n"
     ]
    },
    {
     "data": {
      "text/plain": [
       "(array([0.        , 2.05834223]),\n",
       " array([], dtype=float64),\n",
       " 1,\n",
       " array([48.07702832,  0.        ]))"
      ]
     },
     "execution_count": 52,
     "metadata": {},
     "output_type": "execute_result"
    }
   ],
   "source": [
    "Z = np.zeros((N,2))\n",
    "Z[:,1] = X\n",
    "np.linalg.lstsq(Z,Y.numpy())\n"
   ]
  },
  {
   "cell_type": "code",
   "execution_count": 53,
   "metadata": {},
   "outputs": [
    {
     "name": "stdout",
     "output_type": "stream",
     "text": [
      "tensor([-0.2720], requires_grad=True) tensor([2.0775], requires_grad=True)\n"
     ]
    }
   ],
   "source": [
    "print(w0,w)\n"
   ]
  },
  {
   "cell_type": "markdown",
   "metadata": {},
   "source": [
    "# The training function\n",
    "\n",
    "**TODO:***\n",
    "Now you have everything to write the training code of the model:\n",
    "- initialization of the parameters \n",
    "- loop of gradient descent\n",
    "- record the loss evolution after each epoch\n",
    "- plot the loss evolution along the training process\n",
    "- look at the new decision boundary\n"
   ]
  },
  {
   "cell_type": "code",
   "execution_count": null,
   "metadata": {},
   "outputs": [],
   "source": [
    "Nepoch = 10\n",
    "lr = 1e-1\n",
    "## Your code here "
   ]
  },
  {
   "cell_type": "markdown",
   "metadata": {},
   "source": [
    "# Module\n",
    "In the previous code we define our model \"by hand\". In practice, it is more convenient to use existing module (base class `Module`). For instance the linear transform $f(x) = wx+w_0$ is simply the application of a `Linear` module. \n",
    "\n",
    "**TODO**\n",
    "- Look at the documentation\n",
    "- rewrite the training code to use a `Linear` module. \n",
    "- Look at the result. "
   ]
  },
  {
   "cell_type": "code",
   "execution_count": null,
   "metadata": {},
   "outputs": [],
   "source": []
  },
  {
   "cell_type": "markdown",
   "metadata": {},
   "source": [
    "# Logistic Regression\n",
    "Let start with an easy dataset for binary classification. The following subsections just provide a dummy dataset and function to visualize the data-set. \n",
    "\n",
    "\n",
    "\n",
    "## Create the data\n"
   ]
  },
  {
   "cell_type": "code",
   "execution_count": 58,
   "metadata": {},
   "outputs": [
    {
     "name": "stdout",
     "output_type": "stream",
     "text": [
      "(2, 14)\n"
     ]
    }
   ],
   "source": [
    "import numpy as np\n",
    "ST1 = np.array([[17.0 ,12 ,13 ,15 ,15 ,20 ,20],[ 10 ,12 ,14 ,15 ,20 ,15 ,20]]) # class 1 \n",
    "ST2 = np.array([4, 7.5, 10 ,11, 5 ,5 ,6, 8, 5, 0, 5, 0, 10, 6]).reshape(2,7) # class 2 \n",
    "Xstudents = np.concatenate((ST1,ST2),axis=1)\n",
    "Ystudents = np.ones(14)\n",
    "Ystudents[7:] = 0\n",
    "print(Xstudents.shape)\n",
    "\n"
   ]
  },
  {
   "cell_type": "markdown",
   "metadata": {},
   "source": [
    "Can you plot the dataset with two colors (one for each class) ? \n"
   ]
  },
  {
   "cell_type": "code",
   "execution_count": 62,
   "metadata": {},
   "outputs": [
    {
     "data": {
      "text/plain": [
       "<matplotlib.collections.PathCollection at 0x78b454f53fd0>"
      ]
     },
     "execution_count": 62,
     "metadata": {},
     "output_type": "execute_result"
    },
    {
     "data": {
      "image/png": "[encoded data removed]",
      "text/plain": [
       "<Figure size 640x480 with 1 Axes>"
      ]
     },
     "metadata": {},
     "output_type": "display_data"
    }
   ],
   "source": [
    "plt.scatter(Xstudents[0],Xstudents[1],c=Ystudents)"
   ]
  },
  {
   "cell_type": "markdown",
   "metadata": {},
   "source": [
    "## The model \n",
    "\n",
    "\n",
    "Define a logistic regression model with pytorch, learn it and vizualise the result. \n",
    "The roadmap is: \n",
    "* A simple neural model can rely on  **Sequential**. A model handles  **Tensors**. The data for a model should be converted into Tensors. Start by this transformation. \n",
    "* Create a regression model  (a single neuron with the logistic activation function, or a linear layer with one single neuron with the logistic activation). \n",
    "* Define the '**optimizer** (Take the basic Stochastic Gradient Descent). \n",
    "* Define the objective function\n",
    "* Write the training loop and run it until convergence. It can be useful to play with learning rate. Run the gradient descent example by example. \n",
    "* Look at the solution \n",
    "* Start again in  **batch** mode (the gradient is estimated on the whole training set).\n",
    "\n",
    "\n",
    "\n",
    "## From data to tensors / variables \n"
   ]
  },
  {
   "cell_type": "code",
   "execution_count": 74,
   "metadata": {},
   "outputs": [
    {
     "name": "stdout",
     "output_type": "stream",
     "text": [
      "torch.Size([2, 14])\n"
     ]
    }
   ],
   "source": [
    "X = th.FloatTensor(Xstudents)\n",
    "Y = th.FloatTensor(Ystudents)\n",
    "print(X.shape)"
   ]
  },
  {
   "cell_type": "markdown",
   "metadata": {},
   "source": [
    "## Create the model, its loss and optimizer\n",
    "\n",
    "The model is a linear transformation followed by a Sigmoid function. This is equivalent to a logistic regression model. "
   ]
  },
  {
   "cell_type": "code",
   "execution_count": 75,
   "metadata": {},
   "outputs": [
    {
     "name": "stdout",
     "output_type": "stream",
     "text": [
      "torch.Size([128, 30])\n",
      "torch.Size([14, 2])\n",
      "torch.float32\n"
     ]
    }
   ],
   "source": [
    "# exemple de la doc\n",
    "m = nn.Linear(20, 30)\n",
    "input = th.randn(128, 20)\n",
    "output = m(input)\n",
    "print(output.size())\n",
    "# nous on voudrait des entrées de tailles (*,2) avec *=14\n",
    "# et en en sortie une valeur par vecteur d'entrée: (*,1)\n",
    "# la couche linear elle attend en entrée un tenseur de taille (*,2)\n",
    "X =X.t()\n",
    "print(X.shape)  # 14 étudiants , 2 notes: x1 et x2 \n",
    "                # dans Y on 14 notes, une par étudiant \n",
    "print(X.dtype)"
   ]
  },
  {
   "cell_type": "code",
   "execution_count": 93,
   "metadata": {},
   "outputs": [
    {
     "name": "stdout",
     "output_type": "stream",
     "text": [
      "0 5.213156223297119\n",
      "10 1.754895567893982\n",
      "20 0.9985874891281128\n",
      "30 0.6531645655632019\n",
      "40 0.470933198928833\n",
      "50 0.40115290880203247\n",
      "60 0.35180288553237915\n",
      "70 0.30510443449020386\n",
      "80 0.26822611689567566\n",
      "90 0.23933710157871246\n",
      "0.2174670696258545\n"
     ]
    },
    {
     "data": {
      "image/png": "[encoded data removed]",
      "text/plain": [
       "<Figure size 640x480 with 1 Axes>"
      ]
     },
     "metadata": {},
     "output_type": "display_data"
    }
   ],
   "source": [
    "# The model \n",
    "D_in=2  # input size : 2 \n",
    "D_out=1 # output size: one value \n",
    "\n",
    "\n",
    "model = nn.Sequential(\n",
    "    nn.Linear(D_in,D_out),\n",
    "    nn.Sigmoid()\n",
    ")\n",
    "# The loss\n",
    "lossf = nn.BCELoss()\n",
    "\n",
    "# The optimizer\n",
    "sgd = th.optim.Adam(model.parameters(), lr=1e-1)\n",
    "maxepoch=100\n",
    "trainloss = np.zeros(maxepoch)\n",
    "for i in range(maxepoch):\n",
    "    # 1/ inference \n",
    "    ypred = model.forward(X) ################\n",
    "    # 2/ calculer le cout\n",
    "    # Attention, ypred et Y doivent avoir la même taille ! \n",
    "    l = lossf(ypred.squeeze(), Y) #####################\n",
    "    if i % 10 == 0:  \n",
    "        print(i,l.item())\n",
    "    trainloss[i] = l.item()\n",
    "    # 3/ backprop\n",
    "    l.backward()\n",
    "    # 4/ Update \n",
    "    sgd.step()\n",
    "    # maintenance \n",
    "    sgd.zero_grad()\n",
    "plt.plot(trainloss)\n",
    "print(trainloss[-1])"
   ]
  },
  {
   "cell_type": "code",
   "execution_count": 94,
   "metadata": {},
   "outputs": [
    {
     "name": "stdout",
     "output_type": "stream",
     "text": [
      "tensor([[0.7810],\n",
      "        [0.7327],\n",
      "        [0.8287],\n",
      "        [0.8878],\n",
      "        [0.9586],\n",
      "        [0.9406],\n",
      "        [0.9789],\n",
      "        [0.2769],\n",
      "        [0.2460],\n",
      "        [0.1361],\n",
      "        [0.3464],\n",
      "        [0.0730],\n",
      "        [0.4033],\n",
      "        [0.2474]], grad_fn=<SigmoidBackward0>)\n"
     ]
    }
   ],
   "source": [
    "print(ypred)\n",
    "\n"
   ]
  },
  {
   "cell_type": "markdown",
   "metadata": {},
   "source": [
    "## Testing the model with data\n",
    "Just run inference to see if everything is fine. \n"
   ]
  },
  {
   "cell_type": "code",
   "execution_count": 95,
   "metadata": {},
   "outputs": [
    {
     "name": "stdout",
     "output_type": "stream",
     "text": [
      "For the first input:  tensor([0.7819], grad_fn=<SigmoidBackward0>)\n",
      "For the 3 first inputs:  tensor([[0.7819],\n",
      "        [0.7326],\n",
      "        [0.8292]], grad_fn=<SigmoidBackward0>)\n",
      "For all:  tensor([[0.7819],\n",
      "        [0.7326],\n",
      "        [0.8292],\n",
      "        [0.8886],\n",
      "        [0.9592],\n",
      "        [0.9415],\n",
      "        [0.9793],\n",
      "        [0.2733],\n",
      "        [0.2431],\n",
      "        [0.1341],\n",
      "        [0.3442],\n",
      "        [0.0713],\n",
      "        [0.3999],\n",
      "        [0.2442]], grad_fn=<SigmoidBackward0>)\n"
     ]
    }
   ],
   "source": [
    "# With a single input vector \n",
    "prediction = model(X[0]) # or prediction = model.forward(X[0]) both are equivalent\n",
    "\n",
    "print(\"For the first input: \",prediction)\n",
    "\n",
    "# With 3 input vectors \n",
    "prediction = model(X[0:3])\n",
    "print(\"For the 3 first inputs: \",prediction)\n",
    "\n",
    "# For the whole dataset\n",
    "prediction = model(X)\n",
    "print(\"For all: \",prediction)\n",
    "\n"
   ]
  },
  {
   "cell_type": "code",
   "execution_count": 97,
   "metadata": {},
   "outputs": [
    {
     "name": "stdout",
     "output_type": "stream",
     "text": [
      "The first prediction:  tensor([0.7819], grad_fn=<SigmoidBackward0>) torch.Size([1])\n",
      "The reference:  tensor(1.) torch.Size([])\n"
     ]
    },
    {
     "data": {
      "text/plain": [
       "tensor(0.2460, grad_fn=<BinaryCrossEntropyBackward0>)"
      ]
     },
     "execution_count": 97,
     "metadata": {},
     "output_type": "execute_result"
    }
   ],
   "source": [
    "# With a single input vector \n",
    "prediction = model(X[0])\n",
    "print(\"The first prediction: \",prediction, prediction.shape)\n",
    "print(\"The reference: \",Y[0], Y[0].shape)\n",
    "\n",
    "lossf(prediction.squeeze(),Y[0])\n",
    "\n"
   ]
  },
  {
   "cell_type": "markdown",
   "metadata": {},
   "source": [
    "This code should generate a warning or an error, since the label (or target value) and the prediction (considered as the input value of the loss) are of different dimensions. \n",
    "\n",
    "There is two ways to fix that. The first one is to reduce the input dimension using *squeeze*. The second one is to modify the target values. See the two cells below. "
   ]
  },
  {
   "cell_type": "code",
   "execution_count": null,
   "metadata": {},
   "outputs": [],
   "source": [
    "prediction = model(X[0]).squeeze()\n",
    "print(\"The first prediction: \",prediction, prediction.shape)\n",
    "print(\"The reference: \",Y[0], Y[0].shape)\n",
    "\n",
    "loss_fn(prediction,Y[0])\n",
    "\n"
   ]
  },
  {
   "cell_type": "code",
   "execution_count": null,
   "metadata": {},
   "outputs": [],
   "source": [
    "prediction = model(X[0])\n",
    "Ymodified = Y.view(-1,1)\n",
    "print(\"The first prediction: \",prediction, prediction.shape)\n",
    "print(\"The reference: \",Ymodified[0], Ymodified[0].shape)\n",
    "\n",
    "loss_fn(prediction,Ymodified[0])\n"
   ]
  },
  {
   "cell_type": "markdown",
   "metadata": {},
   "source": [
    "## Training loop\n",
    "\n",
    "**TODO:** Now we have everything to train the model. "
   ]
  },
  {
   "cell_type": "code",
   "execution_count": null,
   "metadata": {},
   "outputs": [],
   "source": []
  },
  {
   "cell_type": "markdown",
   "metadata": {},
   "source": [
    "It is better to visualize the evolution of the loss function: to be sure that everything went well. The idea is to store the loss values in a numpy array and then to plot it. \n",
    "\n",
    "**TODO:** Modify the code above to do that. "
   ]
  },
  {
   "cell_type": "markdown",
   "metadata": {},
   "source": [
    "## Explore the \"solution\" \n",
    "\n",
    "Here, we look at the different wrapping steps: \n",
    "- The model is a set of modules\n",
    "- A Linear module is a matrix of weights along with a bias vector. They are parameters.\n",
    "- A Parameter wrap a tensor\n",
    "- A tensor can be casted as a numpy array\n"
   ]
  },
  {
   "cell_type": "code",
   "execution_count": null,
   "metadata": {},
   "outputs": [],
   "source": [
    "mod = model[0]\n",
    "print(type(mod))\n",
    "print(type(mod.bias))\n",
    "print(type(mod.bias.data))\n",
    "print(type(mod.bias.data.numpy()))\n"
   ]
  },
  {
   "cell_type": "markdown",
   "metadata": {},
   "source": [
    "We can look at the parameters: "
   ]
  },
  {
   "cell_type": "code",
   "execution_count": null,
   "metadata": {},
   "outputs": [],
   "source": [
    "print(mod.bias.data.view(1,1))\n",
    "print(mod.weight.data)"
   ]
  },
  {
   "cell_type": "markdown",
   "metadata": {
    "collapsed": true
   },
   "source": [
    "## Impact of the learning rate \n",
    "\n",
    "Now, we will use the same model trained with a different learning rate. The training process restarts from scratch. We need to therefore to re-create the model and the associated optimizer. "
   ]
  },
  {
   "cell_type": "code",
   "execution_count": null,
   "metadata": {},
   "outputs": [],
   "source": [
    "model = th.nn.Sequential(\n",
    "    th.nn.Linear(D_in, D_out),\n",
    "    th.nn.Sigmoid()    \n",
    ")\n",
    "learning_rate = 1e-1\n",
    "optimizer = th.optim.SGD(model.parameters(), lr=learning_rate) "
   ]
  },
  {
   "cell_type": "markdown",
   "metadata": {},
   "source": [
    "We now have the same model as before, randomly initialized. We train this same model with a different learning rate, a larger one. \n",
    "\n",
    "- Run the training with the same number of epochs and compare the loss value we get at the end\n",
    "- Do you think we can reach the same value with the learning rate of 1e-2, but with a longer training ? \n",
    "- Try the same thing with a learning rate of 0.5, what do you observe ? \n",
    "\n"
   ]
  },
  {
   "cell_type": "code",
   "execution_count": null,
   "metadata": {},
   "outputs": [],
   "source": []
  }
 ],
 "metadata": {
  "anaconda-cloud": {},
  "kernelspec": {
   "display_name": "Python 3 (ipykernel)",
   "language": "python",
   "name": "python3"
  },
  "language_info": {
   "codemirror_mode": {
    "name": "ipython",
    "version": 3
   },
   "file_extension": ".py",
   "mimetype": "text/x-python",
   "name": "python",
   "nbconvert_exporter": "python",
   "pygments_lexer": "ipython3",
   "version": "3.9.19"
  },
  "toc": {
   "base_numbering": 1,
   "nav_menu": {
    "height": "351px",
    "width": "423px"
   },
   "number_sections": true,
   "sideBar": true,
   "skip_h1_title": false,
   "title_cell": "Table of Contents",
   "title_sidebar": "Contents",
   "toc_cell": false,
   "toc_position": {},
   "toc_section_display": true,
   "toc_window_display": false
  }
 },
 "nbformat": 4,
 "nbformat_minor": 1
}
