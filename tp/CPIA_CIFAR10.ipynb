{
  "cells": [
    {
      "cell_type": "markdown",
      "metadata": {
        "id": "i0EIUvR-fZ22"
      },
      "source": [
        "In this notebook you will use the CIFAR10 dataset. It can be a bit long to download. **So start by downloading the dataset**.\n",
        "\n",
        "**Objectives:**\n",
        "- How to build and train a convolutional neural network\n",
        "- Colored images classification with CIFAR-10\n",
        "- Convolutional Networks (with pooling, batch-norm)\n",
        "\n",
        "**Reminder on notebook:**\n",
        "This notebook is a template of what could be explored. You can follow it or explore and experiment additional things. Use the notebook to add your comments, figures, .... You can remove and reorganize it as you wish."
      ]
    },
    {
      "cell_type": "code",
      "execution_count": null,
      "metadata": {
        "scrolled": true,
        "id": "ypakSWKRfZ2-"
      },
      "outputs": [],
      "source": [
        "# math, numpy and plot\n",
        "import numpy as np\n",
        "import math\n",
        "import matplotlib\n",
        "import matplotlib.pyplot as plt\n",
        "# torch\n",
        "import torch as th\n",
        "import torch.autograd as autograd\n",
        "import torch.nn.functional as F\n",
        "import torch.nn as nn\n",
        "import torch.optim as optim"
      ]
    },
    {
      "cell_type": "markdown",
      "metadata": {
        "id": "pokij_tbfZ3E"
      },
      "source": [
        "# Dataset: CIFAR-10\n",
        "\n",
        "First the dataset !  For images in pytorch, we expect the dataset to be a Tensor with 4 dimensions $(N,C,H,W)$ with :\n",
        "- N the batch dimension, *i.e* the number of images\n",
        "- C the number of input channels, here it is 3\n",
        "- H the height or number of rows of each image\n",
        "- W the width  or number of columns of each image"
      ]
    },
    {
      "cell_type": "markdown",
      "metadata": {
        "id": "RhmBkDtcfZ3G"
      },
      "source": [
        "\n",
        "\n",
        "\n",
        "To experiment image classification on a coloured image, we can use the CIFAR-10 dataset.\n",
        "You can find more details for instance on this page: https://pytorch.org/tutorials/beginner/blitz/cifar10_tutorial.html. We can download the dataset and handle it with a dataloader.  "
      ]
    },
    {
      "cell_type": "markdown",
      "metadata": {
        "id": "D3HRGhBWfZ3I"
      },
      "source": [
        "With this example we will use a **dataset** via a **dataloader**.  This is a convenient tool to handle datasets with efficient iterators. There is a [tutorial here](https://pytorch.org/tutorials/beginner/basics/data_tutorial.html). But for the moment, you can just follow the next cells."
      ]
    },
    {
      "cell_type": "code",
      "execution_count": null,
      "metadata": {
        "colab": {
          "base_uri": "https://localhost:8080/",
          "height": 101,
          "referenced_widgets": [
            "6122ec2f4b8747fd9abbfe3cda13b546",
            "a7fd29894ff94eed94a0555f51b76898",
            "30c32a90c3104fdf9b4af8ac4af2d7ff",
            "f25ec745fa82475688df868048975912",
            "6126b069988643568a9e39040b41479d",
            "6e51946dcab64f608653fe9bc9397b55",
            "845a0b8250ce48159f5e0edec77b77f3",
            "ee2af1f03701492e873acb53a2ffa550",
            "cfb4ecd6b38642b0b5bcd7c09f01a473",
            "1124cbfd15ab4f838c80fa158ac7b4b7",
            "182b5f89283b4a1f91845e43f52495a8"
          ]
        },
        "id": "fjJxcAuKfZ3K",
        "outputId": "9b5ffdac-9729-4d30-96d2-1998fbc8a816"
      },
      "outputs": [
        {
          "output_type": "stream",
          "name": "stdout",
          "text": [
            "Downloading https://www.cs.toronto.edu/~kriz/cifar-10-python.tar.gz to ./data/cifar-10-python.tar.gz\n"
          ]
        },
        {
          "output_type": "display_data",
          "data": {
            "text/plain": [
              "  0%|          | 0/170498071 [00:00<?, ?it/s]"
            ],
            "application/vnd.jupyter.widget-view+json": {
              "version_major": 2,
              "version_minor": 0,
              "model_id": "6122ec2f4b8747fd9abbfe3cda13b546"
            }
          },
          "metadata": {}
        },
        {
          "output_type": "stream",
          "name": "stdout",
          "text": [
            "Extracting ./data/cifar-10-python.tar.gz to ./data\n",
            "Files already downloaded and verified\n"
          ]
        }
      ],
      "source": [
        "import torchvision\n",
        "import torchvision.transforms as transforms\n",
        "from torchvision.models import resnet18\n",
        "transform = transforms.Compose(\n",
        "    [transforms.ToTensor(),\n",
        "     transforms.Normalize((0.5, 0.5, 0.5), (0.5, 0.5, 0.5))])\n",
        "\n",
        "\n",
        "alltrainset = torchvision.datasets.CIFAR10(root='./data', train=True,\n",
        "                                        download=True, transform=transform)\n",
        "\n",
        "testset = torchvision.datasets.CIFAR10(root='./data', train=False,\n",
        "                                       download=True, transform=transform)\n",
        "\n",
        "\n",
        "classes = ('plane', 'car', 'bird', 'cat',\n",
        "           'deer', 'dog', 'frog', 'horse', 'ship', 'truck')"
      ]
    },
    {
      "cell_type": "markdown",
      "metadata": {
        "id": "gWFfRCKUfZ3R"
      },
      "source": [
        "To be faster in the experiments, we can use a subset of the data with only N=10000 images.\n",
        "    "
      ]
    },
    {
      "cell_type": "code",
      "execution_count": null,
      "metadata": {
        "id": "W8y5DsFKfZ3U"
      },
      "outputs": [],
      "source": [
        "N = 10000\n",
        "#trainset = th.utils.data.Subset(alltrainset, range(N))\n",
        "trainset=alltrainset"
      ]
    },
    {
      "cell_type": "markdown",
      "metadata": {
        "id": "bs6-1DFmfZ3Z"
      },
      "source": [
        "And then plug a dataloader on the dataset for an easy iteration over it."
      ]
    },
    {
      "cell_type": "code",
      "source": [
        "len(testset)\n"
      ],
      "metadata": {
        "colab": {
          "base_uri": "https://localhost:8080/"
        },
        "id": "ZbD32_zkh-hV",
        "outputId": "7867d967-1320-4092-8185-ed64c89d0884"
      },
      "execution_count": null,
      "outputs": [
        {
          "output_type": "execute_result",
          "data": {
            "text/plain": [
              "10000"
            ]
          },
          "metadata": {},
          "execution_count": 5
        }
      ]
    },
    {
      "cell_type": "code",
      "execution_count": null,
      "metadata": {
        "id": "DkR9J-KifZ3d"
      },
      "outputs": [],
      "source": [
        "batch_size = 400\n",
        "\n",
        "trainloader = th.utils.data.DataLoader(trainset, batch_size=batch_size,\n",
        "                                          shuffle=True)\n",
        "testloader = th.utils.data.DataLoader(testset, batch_size=batch_size,\n",
        "                                         shuffle=False)"
      ]
    },
    {
      "cell_type": "markdown",
      "metadata": {
        "id": "BXin2OwWfZ3g"
      },
      "source": [
        "## Look at some images"
      ]
    },
    {
      "cell_type": "code",
      "execution_count": null,
      "metadata": {
        "id": "gYcW7Dd7fZ3k"
      },
      "outputs": [],
      "source": [
        "def imshow(img,small=True):\n",
        "    img = img / 2 + 0.5     # unnormalize\n",
        "    npimg = img.numpy()\n",
        "    fs = None\n",
        "    if small:\n",
        "        fs = (2,2)\n",
        "    else:\n",
        "        fs = (16,16)\n",
        "    fig , ax= plt.subplots(figsize=fs)\n",
        "    ax.imshow(np.transpose(npimg, (1, 2, 0)))\n",
        "    plt.show()\n"
      ]
    },
    {
      "cell_type": "code",
      "execution_count": null,
      "metadata": {
        "colab": {
          "base_uri": "https://localhost:8080/",
          "height": 727
        },
        "id": "hDMf6P8QfZ3n",
        "outputId": "7bd9f1a6-5483-4aa7-c0d1-d0492b1f8014"
      },
      "outputs": [
        {
          "output_type": "display_data",
          "data": {
            "text/plain": [
              "<Figure size 144x144 with 1 Axes>"
            ],
            "image/png": "[encoded data removed]"
          },
          "metadata": {
            "needs_background": "light"
          }
        },
        {
          "output_type": "display_data",
          "data": {
            "text/plain": [
              "<Figure size 144x144 with 1 Axes>"
            ],
            "image/png": "[encoded data removed]"
          },
          "metadata": {
            "needs_background": "light"
          }
        },
        {
          "output_type": "display_data",
          "data": {
            "text/plain": [
              "<Figure size 144x144 with 1 Axes>"
            ],
            "image/png": "[encoded data removed]"
          },
          "metadata": {
            "needs_background": "light"
          }
        },
        {
          "output_type": "display_data",
          "data": {
            "text/plain": [
              "<Figure size 144x144 with 1 Axes>"
            ],
            "image/png": "[encoded data removed]"
          },
          "metadata": {
            "needs_background": "light"
          }
        },
        {
          "output_type": "display_data",
          "data": {
            "text/plain": [
              "<Figure size 144x144 with 1 Axes>"
            ],
            "image/png": "[encoded data removed]"
          },
          "metadata": {
            "needs_background": "light"
          }
        }
      ],
      "source": [
        "for i in np.random.randint(0,N,5):\n",
        "    imshow(trainset[i][0])"
      ]
    },
    {
      "cell_type": "markdown",
      "metadata": {
        "id": "7KHM9h6mfZ3q"
      },
      "source": [
        "## Training a simple model\n",
        "\n",
        "\n",
        "\n",
        "**TODO**:\n",
        "- Create a convolutional model with 32 output channels, kernel_size=(7,7),stride=(2,2), padding=(3,3), and bias=False. A Maxpooling and a linear classifier can follow this convolution part.\n",
        "- Train this model on the trainset.\n",
        "- Then write two functions, one to train a model and the other to compute the validation score.\n"
      ]
    },
    {
      "cell_type": "code",
      "execution_count": null,
      "metadata": {
        "colab": {
          "base_uri": "https://localhost:8080/"
        },
        "id": "xE5Q2sDWfZ3s",
        "outputId": "c284fac4-e1c7-4d27-df31-65d9f2435d2f"
      },
      "outputs": [
        {
          "output_type": "stream",
          "name": "stdout",
          "text": [
            "torch.Size([1, 3, 32, 32])\n",
            "torch.Size([1, 16, 16, 16])\n",
            "1\n",
            "torch.Size([1, 16, 8, 8])\n",
            "torch.Size([1, 1024])\n",
            "tensor([[0.0727, 0.0895, 0.1221, 0.0743, 0.0966, 0.0873, 0.1150, 0.0967, 0.1395,\n",
            "         0.1064]], grad_fn=<SoftmaxBackward0>)\n"
          ]
        }
      ],
      "source": []
    },
    {
      "cell_type": "code",
      "execution_count": null,
      "metadata": {
        "id": "mqst0wVRfZ3u"
      },
      "outputs": [],
      "source": [
        "def validation_score(model, dsetloader, device):\n",
        "    # TODO\n",
        "\n"
      ]
    },
    {
      "cell_type": "code",
      "execution_count": null,
      "metadata": {
        "id": "y8FJtyCGfZ3v"
      },
      "outputs": [],
      "source": [
        "def trainer(model, trainsetloader, validsetloader, lr=1e-4, nepoch=10):\n",
        "    \"\"\"This function trains\n",
        "    - a pytorch model\n",
        "    - on a train data set given its dataloader (trainsetloader)\n",
        "    - after each epoch the validation score is computed (validsetloader)\n",
        "    - lr = the initial learning rate of Adam\n",
        "    - nepoch : the number of epochs for training\n",
        "    \"\"\"\n",
        "    #### TODO\n",
        "    return None # to remove\n"
      ]
    },
    {
      "cell_type": "code",
      "execution_count": null,
      "metadata": {
        "id": "E9dKBMC5fZ3z"
      },
      "outputs": [],
      "source": [
        "#### TODO:  Define the model, and train it\n",
        "\n"
      ]
    },
    {
      "cell_type": "markdown",
      "metadata": {
        "id": "BdBVhup-fZ30"
      },
      "source": [
        "# More convolution\n",
        "\n",
        "- Try to add a Batchnorm Layer\n",
        "- Try a network with more progressive convolutions and pooling."
      ]
    },
    {
      "cell_type": "code",
      "execution_count": null,
      "metadata": {
        "id": "V3veNsSKfZ32"
      },
      "outputs": [],
      "source": []
    }
  ],
  "metadata": {
    "kernelspec": {
      "display_name": "Python 3 (ipykernel)",
      "language": "python",
      "name": "python3"
    },
    "language_info": {
      "codemirror_mode": {
        "name": "ipython",
        "version": 3
      },
      "file_extension": ".py",
      "mimetype": "text/x-python",
      "name": "python",
      "nbconvert_exporter": "python",
      "pygments_lexer": "ipython3",
      "version": "3.9.12"
    },
    "toc": {
      "base_numbering": 1,
      "nav_menu": {},
      "number_sections": true,
      "sideBar": true,
      "skip_h1_title": false,
      "title_cell": "Table of Contents",
      "title_sidebar": "Contents",
      "toc_cell": false,
      "toc_position": {},
      "toc_section_display": true,
      "toc_window_display": false
    },
    "colab": {
      "provenance": []
    },
    "widgets": {
      "application/vnd.jupyter.widget-state+json": {
        "6122ec2f4b8747fd9abbfe3cda13b546": {
          "model_module": "@jupyter-widgets/controls",
          "model_name": "HBoxModel",
          "model_module_version": "1.5.0",
          "state": {
            "_dom_classes": [],
            "_model_module": "@jupyter-widgets/controls",
            "_model_module_version": "1.5.0",
            "_model_name": "HBoxModel",
            "_view_count": null,
            "_view_module": "@jupyter-widgets/controls",
            "_view_module_version": "1.5.0",
            "_view_name": "HBoxView",
            "box_style": "",
            "children": [
              "IPY_MODEL_a7fd29894ff94eed94a0555f51b76898",
              "IPY_MODEL_30c32a90c3104fdf9b4af8ac4af2d7ff",
              "IPY_MODEL_f25ec745fa82475688df868048975912"
            ],
            "layout": "IPY_MODEL_6126b069988643568a9e39040b41479d"
          }
        },
        "a7fd29894ff94eed94a0555f51b76898": {
          "model_module": "@jupyter-widgets/controls",
          "model_name": "HTMLModel",
          "model_module_version": "1.5.0",
          "state": {
            "_dom_classes": [],
            "_model_module": "@jupyter-widgets/controls",
            "_model_module_version": "1.5.0",
            "_model_name": "HTMLModel",
            "_view_count": null,
            "_view_module": "@jupyter-widgets/controls",
            "_view_module_version": "1.5.0",
            "_view_name": "HTMLView",
            "description": "",
            "description_tooltip": null,
            "layout": "IPY_MODEL_6e51946dcab64f608653fe9bc9397b55",
            "placeholder": "​",
            "style": "IPY_MODEL_845a0b8250ce48159f5e0edec77b77f3",
            "value": "100%"
          }
        },
        "30c32a90c3104fdf9b4af8ac4af2d7ff": {
          "model_module": "@jupyter-widgets/controls",
          "model_name": "FloatProgressModel",
          "model_module_version": "1.5.0",
          "state": {
            "_dom_classes": [],
            "_model_module": "@jupyter-widgets/controls",
            "_model_module_version": "1.5.0",
            "_model_name": "FloatProgressModel",
            "_view_count": null,
            "_view_module": "@jupyter-widgets/controls",
            "_view_module_version": "1.5.0",
            "_view_name": "ProgressView",
            "bar_style": "success",
            "description": "",
            "description_tooltip": null,
            "layout": "IPY_MODEL_ee2af1f03701492e873acb53a2ffa550",
            "max": 170498071,
            "min": 0,
            "orientation": "horizontal",
            "style": "IPY_MODEL_cfb4ecd6b38642b0b5bcd7c09f01a473",
            "value": 170498071
          }
        },
        "f25ec745fa82475688df868048975912": {
          "model_module": "@jupyter-widgets/controls",
          "model_name": "HTMLModel",
          "model_module_version": "1.5.0",
          "state": {
            "_dom_classes": [],
            "_model_module": "@jupyter-widgets/controls",
            "_model_module_version": "1.5.0",
            "_model_name": "HTMLModel",
            "_view_count": null,
            "_view_module": "@jupyter-widgets/controls",
            "_view_module_version": "1.5.0",
            "_view_name": "HTMLView",
            "description": "",
            "description_tooltip": null,
            "layout": "IPY_MODEL_1124cbfd15ab4f838c80fa158ac7b4b7",
            "placeholder": "​",
            "style": "IPY_MODEL_182b5f89283b4a1f91845e43f52495a8",
            "value": " 170498071/170498071 [00:13&lt;00:00, 15943804.21it/s]"
          }
        },
        "6126b069988643568a9e39040b41479d": {
          "model_module": "@jupyter-widgets/base",
          "model_name": "LayoutModel",
          "model_module_version": "1.2.0",
          "state": {
            "_model_module": "@jupyter-widgets/base",
            "_model_module_version": "1.2.0",
            "_model_name": "LayoutModel",
            "_view_count": null,
            "_view_module": "@jupyter-widgets/base",
            "_view_module_version": "1.2.0",
            "_view_name": "LayoutView",
            "align_content": null,
            "align_items": null,
            "align_self": null,
            "border": null,
            "bottom": null,
            "display": null,
            "flex": null,
            "flex_flow": null,
            "grid_area": null,
            "grid_auto_columns": null,
            "grid_auto_flow": null,
            "grid_auto_rows": null,
            "grid_column": null,
            "grid_gap": null,
            "grid_row": null,
            "grid_template_areas": null,
            "grid_template_columns": null,
            "grid_template_rows": null,
            "height": null,
            "justify_content": null,
            "justify_items": null,
            "left": null,
            "margin": null,
            "max_height": null,
            "max_width": null,
            "min_height": null,
            "min_width": null,
            "object_fit": null,
            "object_position": null,
            "order": null,
            "overflow": null,
            "overflow_x": null,
            "overflow_y": null,
            "padding": null,
            "right": null,
            "top": null,
            "visibility": null,
            "width": null
          }
        },
        "6e51946dcab64f608653fe9bc9397b55": {
          "model_module": "@jupyter-widgets/base",
          "model_name": "LayoutModel",
          "model_module_version": "1.2.0",
          "state": {
            "_model_module": "@jupyter-widgets/base",
            "_model_module_version": "1.2.0",
            "_model_name": "LayoutModel",
            "_view_count": null,
            "_view_module": "@jupyter-widgets/base",
            "_view_module_version": "1.2.0",
            "_view_name": "LayoutView",
            "align_content": null,
            "align_items": null,
            "align_self": null,
            "border": null,
            "bottom": null,
            "display": null,
            "flex": null,
            "flex_flow": null,
            "grid_area": null,
            "grid_auto_columns": null,
            "grid_auto_flow": null,
            "grid_auto_rows": null,
            "grid_column": null,
            "grid_gap": null,
            "grid_row": null,
            "grid_template_areas": null,
            "grid_template_columns": null,
            "grid_template_rows": null,
            "height": null,
            "justify_content": null,
            "justify_items": null,
            "left": null,
            "margin": null,
            "max_height": null,
            "max_width": null,
            "min_height": null,
            "min_width": null,
            "object_fit": null,
            "object_position": null,
            "order": null,
            "overflow": null,
            "overflow_x": null,
            "overflow_y": null,
            "padding": null,
            "right": null,
            "top": null,
            "visibility": null,
            "width": null
          }
        },
        "845a0b8250ce48159f5e0edec77b77f3": {
          "model_module": "@jupyter-widgets/controls",
          "model_name": "DescriptionStyleModel",
          "model_module_version": "1.5.0",
          "state": {
            "_model_module": "@jupyter-widgets/controls",
            "_model_module_version": "1.5.0",
            "_model_name": "DescriptionStyleModel",
            "_view_count": null,
            "_view_module": "@jupyter-widgets/base",
            "_view_module_version": "1.2.0",
            "_view_name": "StyleView",
            "description_width": ""
          }
        },
        "ee2af1f03701492e873acb53a2ffa550": {
          "model_module": "@jupyter-widgets/base",
          "model_name": "LayoutModel",
          "model_module_version": "1.2.0",
          "state": {
            "_model_module": "@jupyter-widgets/base",
            "_model_module_version": "1.2.0",
            "_model_name": "LayoutModel",
            "_view_count": null,
            "_view_module": "@jupyter-widgets/base",
            "_view_module_version": "1.2.0",
            "_view_name": "LayoutView",
            "align_content": null,
            "align_items": null,
            "align_self": null,
            "border": null,
            "bottom": null,
            "display": null,
            "flex": null,
            "flex_flow": null,
            "grid_area": null,
            "grid_auto_columns": null,
            "grid_auto_flow": null,
            "grid_auto_rows": null,
            "grid_column": null,
            "grid_gap": null,
            "grid_row": null,
            "grid_template_areas": null,
            "grid_template_columns": null,
            "grid_template_rows": null,
            "height": null,
            "justify_content": null,
            "justify_items": null,
            "left": null,
            "margin": null,
            "max_height": null,
            "max_width": null,
            "min_height": null,
            "min_width": null,
            "object_fit": null,
            "object_position": null,
            "order": null,
            "overflow": null,
            "overflow_x": null,
            "overflow_y": null,
            "padding": null,
            "right": null,
            "top": null,
            "visibility": null,
            "width": null
          }
        },
        "cfb4ecd6b38642b0b5bcd7c09f01a473": {
          "model_module": "@jupyter-widgets/controls",
          "model_name": "ProgressStyleModel",
          "model_module_version": "1.5.0",
          "state": {
            "_model_module": "@jupyter-widgets/controls",
            "_model_module_version": "1.5.0",
            "_model_name": "ProgressStyleModel",
            "_view_count": null,
            "_view_module": "@jupyter-widgets/base",
            "_view_module_version": "1.2.0",
            "_view_name": "StyleView",
            "bar_color": null,
            "description_width": ""
          }
        },
        "1124cbfd15ab4f838c80fa158ac7b4b7": {
          "model_module": "@jupyter-widgets/base",
          "model_name": "LayoutModel",
          "model_module_version": "1.2.0",
          "state": {
            "_model_module": "@jupyter-widgets/base",
            "_model_module_version": "1.2.0",
            "_model_name": "LayoutModel",
            "_view_count": null,
            "_view_module": "@jupyter-widgets/base",
            "_view_module_version": "1.2.0",
            "_view_name": "LayoutView",
            "align_content": null,
            "align_items": null,
            "align_self": null,
            "border": null,
            "bottom": null,
            "display": null,
            "flex": null,
            "flex_flow": null,
            "grid_area": null,
            "grid_auto_columns": null,
            "grid_auto_flow": null,
            "grid_auto_rows": null,
            "grid_column": null,
            "grid_gap": null,
            "grid_row": null,
            "grid_template_areas": null,
            "grid_template_columns": null,
            "grid_template_rows": null,
            "height": null,
            "justify_content": null,
            "justify_items": null,
            "left": null,
            "margin": null,
            "max_height": null,
            "max_width": null,
            "min_height": null,
            "min_width": null,
            "object_fit": null,
            "object_position": null,
            "order": null,
            "overflow": null,
            "overflow_x": null,
            "overflow_y": null,
            "padding": null,
            "right": null,
            "top": null,
            "visibility": null,
            "width": null
          }
        },
        "182b5f89283b4a1f91845e43f52495a8": {
          "model_module": "@jupyter-widgets/controls",
          "model_name": "DescriptionStyleModel",
          "model_module_version": "1.5.0",
          "state": {
            "_model_module": "@jupyter-widgets/controls",
            "_model_module_version": "1.5.0",
            "_model_name": "DescriptionStyleModel",
            "_view_count": null,
            "_view_module": "@jupyter-widgets/base",
            "_view_module_version": "1.2.0",
            "_view_name": "StyleView",
            "description_width": ""
          }
        }
      }
    },
    "accelerator": "GPU",
    "gpuClass": "standard"
  },
  "nbformat": 4,
  "nbformat_minor": 0
}