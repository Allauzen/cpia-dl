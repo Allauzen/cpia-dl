{
 "cells": [
  {
   "cell_type": "markdown",
   "metadata": {
    "id": "2ddI4p0UA7Pm"
   },
   "source": [
    "This notebook is a simple introduction to pytorch, assuming you already know  python, numpy and the notebooks.\n",
    "\n",
    "\n",
    "To start with pytorch, here are some external websites:\n",
    "* http://pytorch.org/tutorials/ : official tutorials\n",
    "* http://pytorch.org/docs/master/ : official documentation\n",
    "\n",
    "Before, check the version of pytorch"
   ]
  },
  {
   "cell_type": "code",
   "execution_count": 1,
   "metadata": {
    "colab": {
     "base_uri": "https://localhost:8080/"
    },
    "id": "hbRoSkgnA7Pq",
    "outputId": "fd4b3bf0-92d9-4f84-e964-8168c883df39"
   },
   "outputs": [
    {
     "name": "stdout",
     "output_type": "stream",
     "text": [
      "1.12.1\n"
     ]
    }
   ],
   "source": [
    "import torch as th\n",
    "print(th.__version__)\n"
   ]
  },
  {
   "cell_type": "code",
   "execution_count": null,
   "metadata": {
    "colab": {
     "base_uri": "https://localhost:8080/"
    },
    "id": "wPjfva_JD2Kq",
    "outputId": "129c589c-cd37-4f1e-d602-2d531cc0ec7e"
   },
   "outputs": [
    {
     "name": "stdout",
     "output_type": "stream",
     "text": [
      "Mounted at /content/drive\n"
     ]
    }
   ],
   "source": [
    "from google.colab import drive\n",
    "drive.mount('/content/drive')"
   ]
  },
  {
   "cell_type": "markdown",
   "metadata": {
    "id": "oPohdaWGA7Pt"
   },
   "source": [
    "You should have a version of at least 1.0.0.\n",
    "\n",
    "\n",
    "## Tensor  overview\n",
    "For users who are familiar with numpy arrays, the PyTorch **Tensor** class is very similar. PyTorch is like NumPy, but with GPU acceleration and automatic computation of gradients. This  makes it suitable for deep learning: calculating backward pass data automatically starting from a forward expression.\n",
    "\n",
    "The forward pass is implemented as a computation graph. The **Tensor** is the basic piece of this computation graph, to encode the data (input/output) and the parameters of the model.\n",
    "A Tensor is both a tensor (like a numpy array or a matlab matrix) and a variable (or a node) of the computation graph. A Tensor can store data and the associated gradients.\n",
    "\n",
    "\n",
    "\n",
    "**IMPORTANT NOTE: ** Since torch 0.3, a **Tensor** is a **Variable** that wraps a tensor. Before these 2 concepts were separated.\n",
    "\n",
    "## Module overview\n",
    "\n",
    "A module is a part of a NNet. It may contains Tensors. The core PyTorch modules for building neural networks are located in *torch.nn*, which provides common neural network layers and other architectural components. Fully connected layers, convolutional layers, activation functions, and loss functions can all be found here. Modules can be seen as pre-built pieces of computation graph.\n",
    "\n",
    "A simple example of *module* is **Linear**: it's a fully connected layer, so a linear transformation of the input. It contains a matrix of parameters (a Tensor). Activation function are also *module*. You can therefore create a cascade of *Linear* module with a *Sigmoid*, for example.\n",
    "\n",
    "A special kind of module is a *container* : a module that contains other module. The most widely used is **Sequential**: it's a container to implement a feed-forward network. When you create a **Sequential** object you pass him an ordered list of modules to create the cascade of operation.\n",
    "\n",
    "\n",
    "\n",
    "\n",
    "\n",
    "# Tensor\n",
    "\n",
    "To start with  *Tensor*s, read this link first :\n",
    "http://pytorch.org/tutorials/beginner/blitz/tensor_tutorial.html.\n",
    "and then look at the operations on tensors:  http://pytorch.org/docs/master/torch.html.\n",
    "\n",
    "## Basics\n",
    "You should know how to :\n",
    "* Build a tensor of dimensions (2,3) filled with 1.\n",
    "* Build a tensor of dimensions (2,3) filled with 0.\n",
    "* Build a tensor of dimensions (2,3) filled with integers from 1  to 6.\n",
    "* Compute the sum of its elements, the sum per rows and per columns.\n",
    "* Build a tensor of dimensions (3,2) filled with random numbers. Numbers are drawn from the uniform distribution on [0,1]\n",
    "* Same with a gaussian  (mean=0, variance=1).\n",
    "* Convert this  Tensor in array numpy and back.\n",
    "\n",
    "Your turn to code but remember:\n",
    "- you can use auto-completion\n",
    "- ask for help, like this :\n",
    "But in most of the case it is easier to use the online documentation of the function: https://pytorch.org/docs/stable/torch.html#torch.arange"
   ]
  },
  {
   "cell_type": "code",
   "execution_count": null,
   "metadata": {
    "colab": {
     "base_uri": "https://localhost:8080/"
    },
    "id": "bRuSTeTUA7Px",
    "outputId": "a7a0769d-a644-432c-e082-f3e62dad0129"
   },
   "outputs": [
    {
     "name": "stdout",
     "output_type": "stream",
     "text": [
      "Help on built-in function arange in module torch:\n",
      "\n",
      "arange(...)\n",
      "    arange(start=0, end, step=1, *, out=None, dtype=None, layout=torch.strided, device=None, requires_grad=False) -> Tensor\n",
      "    \n",
      "    Returns a 1-D tensor of size :math:`\\left\\lceil \\frac{\\text{end} - \\text{start}}{\\text{step}} \\right\\rceil`\n",
      "    with values from the interval ``[start, end)`` taken with common difference\n",
      "    :attr:`step` beginning from `start`.\n",
      "    \n",
      "    Note that non-integer :attr:`step` is subject to floating point rounding errors when\n",
      "    comparing against :attr:`end`; to avoid inconsistency, we advise adding a small epsilon to :attr:`end`\n",
      "    in such cases.\n",
      "    \n",
      "    .. math::\n",
      "        \\text{out}_{{i+1}} = \\text{out}_{i} + \\text{step}\n",
      "    \n",
      "    Args:\n",
      "        start (Number): the starting value for the set of points. Default: ``0``.\n",
      "        end (Number): the ending value for the set of points\n",
      "        step (Number): the gap between each pair of adjacent points. Default: ``1``.\n",
      "    \n",
      "    Keyword args:\n",
      "        out (Tensor, optional): the output tensor.\n",
      "        dtype (:class:`torch.dtype`, optional): the desired data type of returned tensor.\n",
      "            Default: if ``None``, uses a global default (see :func:`torch.set_default_tensor_type`). If `dtype` is not given, infer the data type from the other input\n",
      "            arguments. If any of `start`, `end`, or `stop` are floating-point, the\n",
      "            `dtype` is inferred to be the default dtype, see\n",
      "            :meth:`~torch.get_default_dtype`. Otherwise, the `dtype` is inferred to\n",
      "            be `torch.int64`.\n",
      "        layout (:class:`torch.layout`, optional): the desired layout of returned Tensor.\n",
      "            Default: ``torch.strided``.\n",
      "        device (:class:`torch.device`, optional): the desired device of returned tensor.\n",
      "            Default: if ``None``, uses the current device for the default tensor type\n",
      "            (see :func:`torch.set_default_tensor_type`). :attr:`device` will be the CPU\n",
      "            for CPU tensor types and the current CUDA device for CUDA tensor types.\n",
      "        requires_grad (bool, optional): If autograd should record operations on the\n",
      "            returned tensor. Default: ``False``.\n",
      "    \n",
      "    Example::\n",
      "    \n",
      "        >>> torch.arange(5)\n",
      "        tensor([ 0,  1,  2,  3,  4])\n",
      "        >>> torch.arange(1, 4)\n",
      "        tensor([ 1,  2,  3])\n",
      "        >>> torch.arange(1, 2.5, 0.5)\n",
      "        tensor([ 1.0000,  1.5000,  2.0000])\n",
      "\n"
     ]
    }
   ],
   "source": [
    "# A hint\n",
    "help(th.arange())\n"
   ]
  },
  {
   "cell_type": "code",
   "execution_count": null,
   "metadata": {
    "id": "JF-lEG-5QK82"
   },
   "outputs": [],
   "source": []
  },
  {
   "cell_type": "markdown",
   "metadata": {
    "id": "jvIoD_j5A7P1"
   },
   "source": [
    "## Operation and access\n",
    "\n",
    "* Extract the first row and the last row (do the same with columns)\n",
    "* Build a matrix  A of dimension (2,3), a matrix  B (2,1) et and  C (1,4) with random initialisation.\n",
    "* Concatenate A with B, and the results with avec C.\n",
    "* Create A (5,4), then B (3,4) which contains in this order: the second, the first and the fourth row of A."
   ]
  },
  {
   "cell_type": "code",
   "execution_count": null,
   "metadata": {
    "id": "tTHI6zo9A7P3"
   },
   "outputs": [],
   "source": [
    "a = th.rand(5,4)\n",
    "b = a[[1,0,4]]\n",
    "print(a)\n",
    "print(b)\n"
   ]
  },
  {
   "cell_type": "markdown",
   "metadata": {
    "id": "QAnWudO-A7P5"
   },
   "source": [
    "Look at the following code and how  x2 is built from x."
   ]
  },
  {
   "cell_type": "code",
   "execution_count": null,
   "metadata": {
    "id": "T-P-h5xNA7P7"
   },
   "outputs": [],
   "source": [
    "x = th.randn(5, 4)\n",
    "print(x)\n",
    "\n",
    "x2= th.stack((x,x) , dim=0)\n",
    "print (x2[0])\n",
    "print (x2.size())\n",
    "\n",
    "x2= th.stack((x,x) , dim=1)\n",
    "print (x2[0])\n",
    "print (x2.size())\n",
    "\n",
    "x2= th.stack((x,x) , dim=2)\n",
    "print (x2[0])\n",
    "print (x2.size())\n"
   ]
  },
  {
   "cell_type": "markdown",
   "metadata": {
    "id": "dfxJKwgjA7P-"
   },
   "source": [
    "## Reshape\n",
    "\n",
    "The method **.view()** is similar to *reshape*. This is important since with neural net, you will often need to play with dimensions.\n",
    "\n",
    "* Build a tensor of size (2, 3, 4)\n",
    "* Convert it in a matrix of dimension (3,8) and (2,12)\n",
    "* What is the effect of *view(2,-1)*  ?"
   ]
  },
  {
   "cell_type": "code",
   "execution_count": null,
   "metadata": {
    "id": "J-cqLGA3A7P-"
   },
   "outputs": [],
   "source": []
  },
  {
   "cell_type": "markdown",
   "metadata": {
    "id": "LqruZDkdA7P_"
   },
   "source": [
    "## Auto-grad\n",
    "\n",
    "`torch.autograd` provides classes and functions implementing automatic differentiation.\n",
    "When a tensor is created with `requires_grad=True`, the object will be able to store information about the gradient.\n",
    "In the following example, we build a computational graph. The \"end\" must be a scalar for automatic differentiation.\n",
    "\n"
   ]
  },
  {
   "cell_type": "code",
   "execution_count": null,
   "metadata": {
    "colab": {
     "base_uri": "https://localhost:8080/"
    },
    "id": "9UbYTHDSA7QB",
    "outputId": "ce2ee627-9c48-41c7-fe27-8dabc4ac0124"
   },
   "outputs": [
    {
     "name": "stdout",
     "output_type": "stream",
     "text": [
      "x: tensor([[-1.1098]], requires_grad=True)\n",
      "x.grad: None\n"
     ]
    }
   ],
   "source": [
    "x = th.randn(1, 1, requires_grad=True)\n",
    "print(\"x:\",x)\n",
    "print(\"x.grad:\",x.grad)"
   ]
  },
  {
   "cell_type": "markdown",
   "metadata": {
    "id": "5mhcQedIA7QD"
   },
   "source": [
    "To build a computational graph using x, we just need to create new variables using torch operation."
   ]
  },
  {
   "cell_type": "code",
   "execution_count": null,
   "metadata": {
    "colab": {
     "base_uri": "https://localhost:8080/"
    },
    "id": "9e6b1_EkA7QE",
    "outputId": "b78775d7-d7ef-4713-fec4-dffd165dc4f8"
   },
   "outputs": [
    {
     "name": "stdout",
     "output_type": "stream",
     "text": [
      "tensor([[-1.2197]], grad_fn=<AddBackward0>)\n",
      "tensor([[4.]])\n"
     ]
    }
   ],
   "source": [
    "y = 2*x+1\n",
    "print(y)\n",
    "y.backward()\n",
    "print(x.grad)"
   ]
  },
  {
   "cell_type": "markdown",
   "metadata": {
    "id": "7_vqJ-idA7QF"
   },
   "source": [
    "Can you interprete and understand the result ?"
   ]
  },
  {
   "cell_type": "markdown",
   "metadata": {
    "id": "6zsrtn8TA7QF"
   },
   "source": [
    "Now we can introduce a new variable w, tensor as well."
   ]
  },
  {
   "cell_type": "code",
   "execution_count": null,
   "metadata": {
    "id": "P12kOfRTA7QG"
   },
   "outputs": [],
   "source": [
    "w = th.randn(1,1, requires_grad=True)\n",
    "print(w)"
   ]
  },
  {
   "cell_type": "code",
   "execution_count": null,
   "metadata": {
    "id": "1xwJ_7dzA7QH"
   },
   "outputs": [],
   "source": [
    "z = w*x\n",
    "z.backward()\n",
    "print(x.grad)\n",
    "print(w.grad)"
   ]
  },
  {
   "cell_type": "markdown",
   "metadata": {
    "id": "gU_vjENzA7QI"
   },
   "source": [
    "What do you think about the result ?\n"
   ]
  },
  {
   "cell_type": "markdown",
   "metadata": {
    "id": "mm8r_uenA7QI"
   },
   "source": [
    "It is worth noticing that the gradient is a tensor operation on a scalar value: we compute the partial derivative of a scalar quantity w.r.t a tensor. The variable on which we run the backward must be a single value.\n",
    "\n",
    "Let us consider the following code for instance:"
   ]
  },
  {
   "cell_type": "code",
   "execution_count": null,
   "metadata": {
    "id": "smV6EmZ6A7QJ"
   },
   "outputs": [],
   "source": [
    "x = th.randn(2,2,requires_grad=True)        # x is a square matrix\n",
    "print(x)\n",
    "out = 0.5*x.pow(2).sum() # out is a new variable (scalar)\n",
    "out.backward()           # back propagation in the graph\n",
    "print(\"g:\",x.grad)       # the gradient of out with respect to x\n",
    "print(\"x:\",x)            # A simple check. Is it what expected ?"
   ]
  },
  {
   "cell_type": "markdown",
   "metadata": {
    "id": "9WRyeUEUA7QK"
   },
   "source": [
    "And for this example, can you explain the results ?"
   ]
  },
  {
   "cell_type": "code",
   "execution_count": null,
   "metadata": {
    "id": "74Ht2xUeA7QL"
   },
   "outputs": [],
   "source": [
    "x = th.randn(2,2,requires_grad=True)        # x is a square matrix\n",
    "print(x)\n",
    "w = th.ones(2,2,requires_grad=True)\n",
    "print(w)\n",
    "out = 0.5*(w@x).pow(2).sum() # out is a new variable (scalar)\n",
    "out.backward()           # back propagation in the graph\n",
    "print(\"x:\",x)\n",
    "print(\"x.grad:\",x.grad)  # the gradient of out with respect to x\n",
    "print(\"w:\",w)\n",
    "print(\"w.grad:\",w.grad)  # the gradient of out with respect to x"
   ]
  },
  {
   "cell_type": "markdown",
   "metadata": {
    "id": "P38pv8yXA7QL"
   },
   "source": [
    "# A simple dataset\n",
    "Let start with an easy dataset for binary classification. The following subsections just provide a dummy dataset and function to visualize the data-set.\n",
    "\n",
    "\n",
    "\n",
    "## Create the data\n"
   ]
  },
  {
   "cell_type": "code",
   "execution_count": null,
   "metadata": {
    "id": "RZXJ4jPQA7QM"
   },
   "outputs": [],
   "source": [
    "import numpy as np\n",
    "ST1 = np.array([[17.0 ,12 ,13 ,15 ,15 ,20 ,20],[ 10 ,12 ,14 ,15 ,20 ,15 ,20]]) # class 1\n",
    "ST2 = np.array([4, 7.5, 10 ,11, 5 ,5 ,6, 8, 5, 0, 5, 0, 10, 6]).reshape(2,7) # class 2\n",
    "Xstudents = np.concatenate((ST1,ST2),axis=1)\n",
    "\n",
    "Ystudents = np.ones(14)\n",
    "Ystudents[7:] = 0\n",
    "\n"
   ]
  },
  {
   "cell_type": "code",
   "execution_count": null,
   "metadata": {
    "colab": {
     "base_uri": "https://localhost:8080/",
     "height": 300
    },
    "id": "94wsg-vkd8vV",
    "outputId": "a4659949-a3e1-4fe6-dedc-37f0dcdeb5cd"
   },
   "outputs": [
    {
     "name": "stdout",
     "output_type": "stream",
     "text": [
      "(2, 14)\n"
     ]
    },
    {
     "data": {
      "text/plain": [
       "<matplotlib.collections.PathCollection at 0x7fe2807086a0>"
      ]
     },
     "execution_count": 76,
     "metadata": {},
     "output_type": "execute_result"
    },
    {
     "data": {
      "image/png": "[encoded data removed]",
      "text/plain": [
       "<Figure size 432x288 with 1 Axes>"
      ]
     },
     "metadata": {
      "needs_background": "light"
     },
     "output_type": "display_data"
    }
   ],
   "source": [
    "import matplotlib.pyplot as plt\n",
    "print(Xstudents.shape)\n",
    "sel = Ystudents == 0\n",
    "plt.scatter(Xstudents[0,sel],Xstudents[1,sel], c='red')\n",
    "sel = Ystudents == 1\n",
    "plt.scatter(Xstudents[0,sel],Xstudents[1,sel], c='green')"
   ]
  },
  {
   "cell_type": "markdown",
   "metadata": {
    "id": "I4AdO9I6A7QN"
   },
   "source": [
    "Can you plot the dataset with two colors (one for each class) ?\n"
   ]
  },
  {
   "cell_type": "markdown",
   "metadata": {
    "id": "L-Ohf9ajA7QN"
   },
   "source": [
    "# pyTorch\n",
    "\n",
    "\n",
    "Define a logistic regression model with pytorch, learn it and vizualise the result.\n",
    "The roadmap is:\n",
    "* A simple neural model can rely on  **Sequential**. A model handles  **Tensors**. The data for a model should be converted into Tensors. Start by this transformation.\n",
    "* Create a regression model  (a single neuron with the logistic activation function, or a linear layer with one single neuron with the logistic activation).\n",
    "* Define the '**optimizer** (Take the basic Stochastic Gradient Descent).\n",
    "* Define the objective function\n",
    "* Write the training loop and run it until convergence. It can be useful to play with learning rate. Run the gradient descent example by example.\n",
    "* Look at the solution\n",
    "* Start again in  **batch** mode (the gradient is estimated on the whole training set).\n",
    "\n",
    "\n",
    "\n",
    "## From data to tensors / variables\n"
   ]
  },
  {
   "cell_type": "code",
   "execution_count": null,
   "metadata": {
    "colab": {
     "base_uri": "https://localhost:8080/"
    },
    "id": "xQZ3vvhFA7QO",
    "outputId": "310d00f2-7643-4a3f-fc14-94dd4845f6a8"
   },
   "outputs": [
    {
     "name": "stdout",
     "output_type": "stream",
     "text": [
      "tensor([[17.0000, 10.0000],\n",
      "        [12.0000, 12.0000],\n",
      "        [13.0000, 14.0000],\n",
      "        [15.0000, 15.0000],\n",
      "        [15.0000, 20.0000],\n",
      "        [20.0000, 15.0000],\n",
      "        [20.0000, 20.0000],\n",
      "        [ 4.0000,  8.0000],\n",
      "        [ 7.5000,  5.0000],\n",
      "        [10.0000,  0.0000],\n",
      "        [11.0000,  5.0000],\n",
      "        [ 5.0000,  0.0000],\n",
      "        [ 5.0000, 10.0000],\n",
      "        [ 6.0000,  6.0000]])\n",
      "torch.Size([14, 2])\n",
      "Y= tensor([1., 1., 1., 1., 1., 1., 1., 0., 0., 0., 0., 0., 0., 0.]) torch.Size([14])\n",
      "One i/o\n",
      "tensor([12., 12.]) torch.Size([2])\n",
      "tensor(1.)\n"
     ]
    }
   ],
   "source": [
    "X = th.FloatTensor(Xstudents.T)\n",
    "print(X)\n",
    "print(X.shape)\n",
    "\n",
    "Y=th.FloatTensor(Ystudents)\n",
    "print(\"Y=\",Y,Y.shape)\n",
    "print (\"One i/o\")\n",
    "print(X[1],X[1].shape)\n",
    "print(Y[1])"
   ]
  },
  {
   "cell_type": "markdown",
   "metadata": {
    "id": "ZRJtSxOaA7QO"
   },
   "source": [
    "## Create the model, its loss and optimizer\n",
    "\n",
    "The model is a linear transformation followed by a Sigmoid function. This is equivalent to a logistic regression model."
   ]
  },
  {
   "cell_type": "code",
   "execution_count": null,
   "metadata": {
    "colab": {
     "base_uri": "https://localhost:8080/"
    },
    "id": "UC5vhpTbA7QP",
    "outputId": "27b040a6-85d1-4ff6-9e7e-02186602a637"
   },
   "outputs": [
    {
     "name": "stdout",
     "output_type": "stream",
     "text": [
      "Sequential(\n",
      "  (0): Linear(in_features=2, out_features=1, bias=True)\n",
      "  (1): Sigmoid()\n",
      ")\n"
     ]
    }
   ],
   "source": [
    "# The model\n",
    "D_in=2  # input size : 2\n",
    "D_out=1 # output size: one value\n",
    "model = th.nn.Sequential(\n",
    "    th.nn.Linear(D_in, D_out),\n",
    "    th.nn.Sigmoid()\n",
    ")\n",
    "print(model)\n",
    "\n",
    "\n",
    "loss_fn = th.nn.BCELoss() # The binary cross entropy\n",
    "learning_rate = 1e-2\n",
    "optimizer = th.optim.Adam(model.parameters(), lr=learning_rate) #"
   ]
  },
  {
   "cell_type": "markdown",
   "metadata": {
    "id": "0_FU6PWHA7QQ"
   },
   "source": [
    "## Testing the model with data"
   ]
  },
  {
   "cell_type": "code",
   "execution_count": null,
   "metadata": {
    "colab": {
     "base_uri": "https://localhost:8080/"
    },
    "id": "HMwoCfOwA7QQ",
    "outputId": "0db7f0df-5912-4c14-d153-f23551fa626f"
   },
   "outputs": [
    {
     "name": "stdout",
     "output_type": "stream",
     "text": [
      "For the first input:  tensor([0.9946], grad_fn=<SigmoidBackward0>)\n",
      "For the 3 first inputs:  tensor([[0.9946],\n",
      "        [0.9990],\n",
      "        [0.9997]], grad_fn=<SigmoidBackward0>)\n",
      "For all:  tensor([[0.9946],\n",
      "        [0.9990],\n",
      "        [0.9997],\n",
      "        [0.9998],\n",
      "        [1.0000],\n",
      "        [0.9997],\n",
      "        [1.0000],\n",
      "        [0.9927],\n",
      "        [0.9376],\n",
      "        [0.3312],\n",
      "        [0.9200],\n",
      "        [0.4204],\n",
      "        [0.9978],\n",
      "        [0.9698]], grad_fn=<SigmoidBackward0>)\n"
     ]
    }
   ],
   "source": [
    "# With a single input vector\n",
    "prediction = model(X[0]) # or prediction = model.forward(X[0]) both are equivalent\n",
    "\n",
    "print(\"For the first input: \",prediction)\n",
    "\n",
    "# With 3 input vectors\n",
    "prediction = model(X[0:3])\n",
    "print(\"For the 3 first inputs: \",prediction)\n",
    "\n",
    "# For the whole dataset\n",
    "prediction = model(X)\n",
    "print(\"For all: \",prediction)\n",
    "\n"
   ]
  },
  {
   "cell_type": "code",
   "execution_count": null,
   "metadata": {
    "colab": {
     "base_uri": "https://localhost:8080/"
    },
    "id": "H1XWd5BrA7QS",
    "outputId": "e70d91d7-f781-484b-e279-397f878c61f7"
   },
   "outputs": [
    {
     "name": "stdout",
     "output_type": "stream",
     "text": [
      "The first prediction:  tensor([0.9946], grad_fn=<SigmoidBackward0>) torch.Size([1])\n",
      "The reference:  tensor(1.) torch.Size([])\n"
     ]
    },
    {
     "data": {
      "text/plain": [
       "tensor(0.0055, grad_fn=<BinaryCrossEntropyBackward0>)"
      ]
     },
     "execution_count": 65,
     "metadata": {},
     "output_type": "execute_result"
    }
   ],
   "source": [
    "# With a single input vector\n",
    "prediction = model(X[0])\n",
    "print(\"The first prediction: \",prediction, prediction.shape)\n",
    "print(\"The reference: \",Y[0], Y[0].shape)\n",
    "\n",
    "loss_fn(prediction,Y[0].unsqueeze(0))\n",
    "\n"
   ]
  },
  {
   "cell_type": "markdown",
   "metadata": {
    "id": "vNt2DV8eA7QS"
   },
   "source": [
    "This code should generate a warning, since the label (or target value) and the prediction (considered as the input value of the loss) are of different dimensions.\n",
    "\n",
    "There is two ways to fix that. The first one is to reduce the input dimension using *squeeze*. The second one is to modify the target values. See the two cells below."
   ]
  },
  {
   "cell_type": "code",
   "execution_count": null,
   "metadata": {
    "colab": {
     "base_uri": "https://localhost:8080/"
    },
    "id": "_1RbSz7xA7QS",
    "outputId": "528f6b57-6de1-4646-f38a-502db7dddc5b"
   },
   "outputs": [
    {
     "name": "stdout",
     "output_type": "stream",
     "text": [
      "The first prediction:  tensor(0.9946, grad_fn=<SqueezeBackward0>) torch.Size([])\n",
      "The reference:  tensor(1.) torch.Size([])\n"
     ]
    },
    {
     "data": {
      "text/plain": [
       "tensor(0.0055, grad_fn=<BinaryCrossEntropyBackward0>)"
      ]
     },
     "execution_count": 66,
     "metadata": {},
     "output_type": "execute_result"
    }
   ],
   "source": [
    "prediction = model(X[0]).squeeze()\n",
    "print(\"The first prediction: \",prediction, prediction.shape)\n",
    "print(\"The reference: \",Y[0], Y[0].shape)\n",
    "\n",
    "loss_fn(prediction,Y[0])\n",
    "\n"
   ]
  },
  {
   "cell_type": "code",
   "execution_count": null,
   "metadata": {
    "colab": {
     "base_uri": "https://localhost:8080/"
    },
    "id": "IuFioNgzA7QT",
    "outputId": "9b1f627b-ac74-474a-d67e-cf51c4ce2b92"
   },
   "outputs": [
    {
     "name": "stdout",
     "output_type": "stream",
     "text": [
      "The first prediction:  tensor([0.9946], grad_fn=<SigmoidBackward0>) torch.Size([1])\n",
      "The reference:  tensor([1.]) torch.Size([1])\n"
     ]
    },
    {
     "data": {
      "text/plain": [
       "tensor(0.0055, grad_fn=<BinaryCrossEntropyBackward0>)"
      ]
     },
     "execution_count": 67,
     "metadata": {},
     "output_type": "execute_result"
    }
   ],
   "source": [
    "prediction = model(X[0])\n",
    "Ymodified = Y.view(-1,1)\n",
    "print(\"The first prediction: \",prediction, prediction.shape)\n",
    "print(\"The reference: \",Ymodified[0], Ymodified[0].shape)\n",
    "\n",
    "loss_fn(prediction,Ymodified[0])\n"
   ]
  },
  {
   "cell_type": "markdown",
   "metadata": {
    "id": "mBWcHCDoA7QT"
   },
   "source": [
    "## Training loop\n",
    "\n",
    "Now we have everything to train the model."
   ]
  },
  {
   "cell_type": "code",
   "execution_count": null,
   "metadata": {
    "colab": {
     "base_uri": "https://localhost:8080/"
    },
    "id": "758nq1a5A7QV",
    "outputId": "069bff2d-c00e-44f9-a8d6-98ec3ee68353"
   },
   "outputs": [
    {
     "name": "stdout",
     "output_type": "stream",
     "text": [
      "0 0.0756419450044632\n",
      "100 0.05695043131709099\n",
      "200 0.04321214556694031\n",
      "300 0.03299960494041443\n",
      "400 0.025336788967251778\n",
      "500 0.019541459158062935\n",
      "600 0.01512901857495308\n",
      "700 0.011750523932278156\n",
      "800 0.009151503443717957\n",
      "900 0.007144039496779442\n"
     ]
    }
   ],
   "source": [
    "# TODO"
   ]
  },
  {
   "cell_type": "markdown",
   "metadata": {
    "id": "1FcMHCn6A7QW"
   },
   "source": [
    "It is better to visualize the evolution of the loss function: to be sure that everything went well. The idea is to store the loss values in a numpy array and then to plot it.\n",
    "\n",
    "**TODO:** Modify the code above to do that."
   ]
  },
  {
   "cell_type": "markdown",
   "metadata": {
    "id": "evv2M5rsA7QW"
   },
   "source": [
    "## Explore the \"solution\"\n",
    "\n",
    "Here, we look at the different wrapping steps:\n",
    "- The model is a set of modules\n",
    "- A Linear module is a matrix of weights along with a bias vector. They are parameters.\n",
    "- A Parameter wrap a tensor\n",
    "- A tensor can be casted as a numpy array\n"
   ]
  },
  {
   "cell_type": "code",
   "execution_count": null,
   "metadata": {
    "id": "byocAa9lA7QX"
   },
   "outputs": [],
   "source": [
    "mod = model[0]\n",
    "print(type(mod))\n",
    "print(type(mod.bias))\n",
    "print(type(mod.bias.data))\n",
    "print(type(mod.bias.data.numpy()))\n"
   ]
  },
  {
   "cell_type": "markdown",
   "metadata": {
    "id": "Z3GM82MPA7QX"
   },
   "source": [
    "We can look at the parameters:"
   ]
  },
  {
   "cell_type": "code",
   "execution_count": null,
   "metadata": {
    "id": "JEt_dycbA7QY"
   },
   "outputs": [],
   "source": [
    "print(mod.bias.data.view(1,1))\n",
    "print(mod.weight.data)"
   ]
  },
  {
   "cell_type": "markdown",
   "metadata": {
    "collapsed": true,
    "id": "8I1L1S54A7QY"
   },
   "source": [
    "## Impact of the learning rate\n",
    "\n",
    "Now, we will use the same model trained with a different learning rate. The training process restarts from scratch. We need to therefore to re-create the model and the associated optimizer."
   ]
  },
  {
   "cell_type": "code",
   "execution_count": null,
   "metadata": {
    "id": "UP-SFOyTA7QZ"
   },
   "outputs": [],
   "source": []
  },
  {
   "cell_type": "markdown",
   "metadata": {
    "id": "YuExfEP0A7QZ"
   },
   "source": [
    "We now have the same model as before, randomly initialized. We train this same model with a different learning rate, a larger one.\n",
    "\n",
    "- Run the training with the same number of epochs and compare the loss value we get at the end\n",
    "- Do you think we can reach the same value with the learning rate of 1e-2, but with a longer training ?\n",
    "- Try the same thing with a learning rate of 0.5, what do you observe ?\n",
    "\n"
   ]
  },
  {
   "cell_type": "code",
   "execution_count": null,
   "metadata": {
    "id": "KH6gKo94A7Qa"
   },
   "outputs": [],
   "source": []
  }
 ],
 "metadata": {
  "accelerator": "GPU",
  "anaconda-cloud": {},
  "colab": {
   "provenance": []
  },
  "gpuClass": "standard",
  "kernelspec": {
   "display_name": "Python 3 (ipykernel)",
   "language": "python",
   "name": "python3"
  },
  "language_info": {
   "codemirror_mode": {
    "name": "ipython",
    "version": 3
   },
   "file_extension": ".py",
   "mimetype": "text/x-python",
   "name": "python",
   "nbconvert_exporter": "python",
   "pygments_lexer": "ipython3",
   "version": "3.9.12"
  },
  "toc": {
   "base_numbering": 1,
   "nav_menu": {},
   "number_sections": true,
   "sideBar": true,
   "skip_h1_title": false,
   "title_cell": "Table of Contents",
   "title_sidebar": "Contents",
   "toc_cell": false,
   "toc_position": {},
   "toc_section_display": true,
   "toc_window_display": false
  }
 },
 "nbformat": 4,
 "nbformat_minor": 1
}
